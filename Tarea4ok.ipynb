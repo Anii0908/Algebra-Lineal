{
  "nbformat": 4,
  "nbformat_minor": 0,
  "metadata": {
    "colab": {
      "provenance": []
    },
    "kernelspec": {
      "name": "python3",
      "display_name": "Python 3"
    },
    "language_info": {
      "name": "python"
    }
  },
  "cells": [
    {
      "cell_type": "code",
      "execution_count": 1,
      "metadata": {
        "id": "uisCXUFKkJE-",
        "outputId": "fc2fd221-fbde-4a74-d4e2-bb9850947a4f",
        "colab": {
          "base_uri": "https://localhost:8080/"
        }
      },
      "outputs": [
        {
          "output_type": "stream",
          "name": "stdout",
          "text": [
            "Collecting nacal\n",
            "  Downloading nacal-0.1.30-py3-none-any.whl (33 kB)\n",
            "Requirement already satisfied: sympy>=1.1.0 in /usr/local/lib/python3.10/dist-packages (from nacal) (1.12)\n",
            "Requirement already satisfied: mpmath>=0.19 in /usr/local/lib/python3.10/dist-packages (from sympy>=1.1.0->nacal) (1.3.0)\n",
            "Installing collected packages: nacal\n",
            "Successfully installed nacal-0.1.30\n"
          ]
        }
      ],
      "source": [
        "##primero instalamos las librerias necesarias\n",
        "!pip install --target=$nb_path nacal\n",
        "from nacal import *\n",
        "from IPython.display import display, Math, Latex"
      ]
    },
    {
      "cell_type": "markdown",
      "source": [
        "PRIMERO INICIALIZAMOS LAS LIBRERIAS"
      ],
      "metadata": {
        "id": "5bxeJCO4hrh3"
      }
    },
    {
      "cell_type": "markdown",
      "metadata": {
        "id": "LiJ1aW_Nj1X5"
      },
      "source": [
        "### Primer ejercicio\n",
        "\n"
      ]
    },
    {
      "cell_type": "markdown",
      "metadata": {
        "id": "roLWrzwXj1X6"
      },
      "source": [
        "Cree la matriz\n",
        "$${A}=\\begin{bmatrix}1&0&0&0\\\\2&0&0&0\\\\0&3&3&0\\\\0&3&4&1\\\\0&1&2&1\\end{bmatrix}$$\n",
        "\n"
      ]
    },
    {
      "cell_type": "code",
      "source": [
        "a=( [1, 0, 0, 0] )\n",
        "b=( [2, 0, 0,0] )\n",
        "c=( [0,3,3,0] )\n",
        "d=( [0,3,4,1] )\n",
        "e=( [0,1,2,1] )\n",
        "mat=Matrix( [a, b, c, d,e] )\n",
        "display(Latex(latex(mat)))"
      ],
      "metadata": {
        "id": "aptVBvt0ks39",
        "outputId": "c816b493-38ff-4c99-b09e-960cd0941fb4",
        "colab": {
          "base_uri": "https://localhost:8080/",
          "height": 119
        }
      },
      "execution_count": 2,
      "outputs": [
        {
          "output_type": "display_data",
          "data": {
            "text/plain": [
              "<IPython.core.display.Latex object>"
            ],
            "text/latex": "\\left[ \\begin{array}{cccc}1&0&0&0\\\\2&0&0&0\\\\0&3&3&0\\\\0&3&4&1\\\\0&1&2&1\\\\ \\end{array} \\right]"
          },
          "metadata": {}
        }
      ]
    },
    {
      "cell_type": "markdown",
      "metadata": {
        "id": "uXXsQDPtj1X6"
      },
      "source": [
        "Cree a partir de ${A}$ una matriz cuya única columna sea la\n",
        "primera columna de ${A}$\n",
        "\n"
      ]
    },
    {
      "cell_type": "code",
      "source": [
        "a1=( [1] )\n",
        "b1=( [2] )\n",
        "c1=( [0] )\n",
        "d1=( [0] )\n",
        "e1=c=( [0] )\n",
        "mat1=Matrix( [a1, b1, c1, d1,e1] )\n",
        "display(Latex(latex(mat1)))"
      ],
      "metadata": {
        "id": "4ks9WtQ2k1zI",
        "outputId": "b2153b3a-63b2-42cd-e220-852a07a1373f",
        "colab": {
          "base_uri": "https://localhost:8080/",
          "height": 119
        }
      },
      "execution_count": 3,
      "outputs": [
        {
          "output_type": "display_data",
          "data": {
            "text/plain": [
              "<IPython.core.display.Latex object>"
            ],
            "text/latex": "\\left[ \\begin{array}{c}1\\\\2\\\\0\\\\0\\\\0\\\\ \\end{array} \\right]"
          },
          "metadata": {}
        }
      ]
    },
    {
      "cell_type": "markdown",
      "metadata": {
        "id": "M8GNqqerj1X7"
      },
      "source": [
        "Cree a partir de ${A}$ una matriz cuya única columna sea la segunda\n",
        "fila de ${A}$\n",
        "\n"
      ]
    },
    {
      "cell_type": "code",
      "source": [
        "a2=( [0] )\n",
        "b2=( [0] )\n",
        "c2=( [3] )\n",
        "d2=( [3] )\n",
        "e2=c=( [1] )\n",
        "mat2=Matrix( [a2, b2, c2, d2,e2] )\n",
        "display(Latex(latex(mat2)))"
      ],
      "metadata": {
        "id": "G13H5wEAlBM-",
        "outputId": "7f13679e-0d94-4a02-8d37-64781faaadc7",
        "colab": {
          "base_uri": "https://localhost:8080/",
          "height": 119
        }
      },
      "execution_count": 4,
      "outputs": [
        {
          "output_type": "display_data",
          "data": {
            "text/plain": [
              "<IPython.core.display.Latex object>"
            ],
            "text/latex": "\\left[ \\begin{array}{c}0\\\\0\\\\3\\\\3\\\\1\\\\ \\end{array} \\right]"
          },
          "metadata": {}
        }
      ]
    },
    {
      "cell_type": "markdown",
      "metadata": {
        "id": "AKjPfZxaj1X8"
      },
      "source": [
        "<div class=\"EXERCISE\">\n",
        "Cree a partir de $A$ una matriz cuya única fila sea la primera\n",
        "fila de $A$\n",
        "\n",
        "</div>\n",
        "\n"
      ]
    },
    {
      "cell_type": "code",
      "source": [
        "a3=( [1,0,0,0] )\n",
        "mat3=Matrix( [a] )\n",
        "display(Latex(latex(mat3)))"
      ],
      "metadata": {
        "id": "d0omQE0rlGMW",
        "outputId": "55c0158d-b892-467d-f206-87fd7ae59dde",
        "colab": {
          "base_uri": "https://localhost:8080/",
          "height": 38
        }
      },
      "execution_count": 5,
      "outputs": [
        {
          "output_type": "display_data",
          "data": {
            "text/plain": [
              "<IPython.core.display.Latex object>"
            ],
            "text/latex": "\\left[ \\begin{array}{cccc}1&0&0&0\\\\ \\end{array} \\right]"
          },
          "metadata": {}
        }
      ]
    },
    {
      "cell_type": "markdown",
      "metadata": {
        "id": "BaPPzRJjj1X9"
      },
      "source": [
        "### Segundo ejercicio\n",
        "\n"
      ]
    },
    {
      "cell_type": "markdown",
      "metadata": {
        "id": "96CPH5a_j1X9"
      },
      "source": [
        "Calcule el siguiente vector: 3 veces la primera columna de $A$\n",
        "menos la segunda columna de $A$ mas 2 veces la tercera columna\n",
        "menos 3 veces la última columna de $A$\n",
        "\n"
      ]
    },
    {
      "cell_type": "code",
      "source": [
        "a11=( [0] )\n",
        "b11=( [0] )\n",
        "c11=( [3] )\n",
        "d11=( [4] )\n",
        "e11=( [2] )\n",
        "mat11=Matrix( [a11, b11, c11, d11,e11] )\n",
        "display(Latex(latex(mat11)))"
      ],
      "metadata": {
        "colab": {
          "base_uri": "https://localhost:8080/",
          "height": 119
        },
        "id": "h8xhcgiwoh0J",
        "outputId": "d9de29f6-487f-4615-e2b1-c7ff992098fe"
      },
      "execution_count": 33,
      "outputs": [
        {
          "output_type": "display_data",
          "data": {
            "text/plain": [
              "<IPython.core.display.Latex object>"
            ],
            "text/latex": "\\left[ \\begin{array}{c}0\\\\0\\\\3\\\\4\\\\2\\\\ \\end{array} \\right]"
          },
          "metadata": {}
        }
      ]
    },
    {
      "cell_type": "code",
      "source": [
        "a12=( [0] )\n",
        "b12=( [0] )\n",
        "c12=( [0] )\n",
        "d12=( [1] )\n",
        "e12=( [1] )\n",
        "mat12=Matrix( [a12, b12, c12, d12,e12] )\n",
        "display(Latex(latex(mat12)))"
      ],
      "metadata": {
        "colab": {
          "base_uri": "https://localhost:8080/",
          "height": 119
        },
        "id": "vEMvwVcUpGT1",
        "outputId": "243bb4c2-a2ea-408c-b027-99a4048575cf"
      },
      "execution_count": 35,
      "outputs": [
        {
          "output_type": "display_data",
          "data": {
            "text/plain": [
              "<IPython.core.display.Latex object>"
            ],
            "text/latex": "\\left[ \\begin{array}{c}0\\\\0\\\\0\\\\1\\\\1\\\\ \\end{array} \\right]"
          },
          "metadata": {}
        }
      ]
    },
    {
      "cell_type": "code",
      "source": [
        "display(Latex(latex(((3*mat1)-(mat2))+((2*mat11)-(3*mat12)))))"
      ],
      "metadata": {
        "id": "frH6ZOYnmErd",
        "colab": {
          "base_uri": "https://localhost:8080/",
          "height": 119
        },
        "outputId": "4908cff0-fa71-4b19-8160-8b143b68c85f"
      },
      "execution_count": 37,
      "outputs": [
        {
          "output_type": "display_data",
          "data": {
            "text/plain": [
              "<IPython.core.display.Latex object>"
            ],
            "text/latex": "\\left[ \\begin{array}{c}3\\\\6\\\\-3\\\\-4\\\\-2\\\\ \\end{array} \\right]"
          },
          "metadata": {}
        }
      ]
    },
    {
      "cell_type": "markdown",
      "metadata": {
        "id": "MxEQJrEKj1X-"
      },
      "source": [
        "### Tercer ejercicio\n",
        "\n"
      ]
    },
    {
      "cell_type": "markdown",
      "metadata": {
        "id": "dsc0wXPHj1YA"
      },
      "source": [
        "Proporcione ejemplos de matrices 3 por 3 no nulas de los siguientes\n",
        "tipos de matrices:\n",
        "\n",
        "-   Una matriz diagonal\n",
        "\n"
      ]
    },
    {
      "cell_type": "code",
      "source": [
        "a4=( [-8, 1, 3] )\n",
        "b4=( [1, 7, 4] )\n",
        "c4=( [3, 4, 9] )\n",
        "mat4=Matrix( [a4, b4, c4] )\n",
        "display(Latex(latex(mat4)))"
      ],
      "metadata": {
        "id": "T6blJI3YmQt1",
        "colab": {
          "base_uri": "https://localhost:8080/",
          "height": 78
        },
        "outputId": "7ad34629-6f79-405a-963c-c58397cbd80e"
      },
      "execution_count": 6,
      "outputs": [
        {
          "output_type": "display_data",
          "data": {
            "text/plain": [
              "<IPython.core.display.Latex object>"
            ],
            "text/latex": "\\left[ \\begin{array}{ccc}-8&1&3\\\\1&7&4\\\\3&4&9\\\\ \\end{array} \\right]"
          },
          "metadata": {}
        }
      ]
    },
    {
      "cell_type": "markdown",
      "metadata": {
        "id": "j5rXy3Waj1YA"
      },
      "source": [
        "-   Una matriz simétrica\n",
        "\n"
      ]
    },
    {
      "cell_type": "code",
      "source": [
        "a5=( [1, 0, 0] )\n",
        "b5=( [0, 2, 0] )\n",
        "c5=( [0, 0, 3] )\n",
        "mat5=Matrix( [a5, b5, c5] )\n",
        "display(Latex(latex(mat5)))"
      ],
      "metadata": {
        "id": "zDghbArCmQ-v",
        "colab": {
          "base_uri": "https://localhost:8080/",
          "height": 78
        },
        "outputId": "5e2df3d7-38fc-405c-ecd1-e9b68ff28548"
      },
      "execution_count": 7,
      "outputs": [
        {
          "output_type": "display_data",
          "data": {
            "text/plain": [
              "<IPython.core.display.Latex object>"
            ],
            "text/latex": "\\left[ \\begin{array}{ccc}1&0&0\\\\0&2&0\\\\0&0&3\\\\ \\end{array} \\right]"
          },
          "metadata": {}
        }
      ]
    },
    {
      "cell_type": "markdown",
      "metadata": {
        "id": "UHEAMjHQj1YB"
      },
      "source": [
        "-   Una matriz triangular superior (es decir, que todos los elementos\n",
        "    por *debajo* de la diagonal son nulos).\n",
        "\n"
      ]
    },
    {
      "cell_type": "code",
      "source": [
        "a6=( [1, 3, 5] )\n",
        "b6=( [0, 2, 3] )\n",
        "c6=( [0, 0, 3] )\n",
        "mat6=Matrix( [a6, b6, c6] )\n",
        "display(Latex(latex(mat6)))"
      ],
      "metadata": {
        "id": "WIJVEVe2mV0E",
        "colab": {
          "base_uri": "https://localhost:8080/",
          "height": 78
        },
        "outputId": "dabe20fc-d4bb-4175-f38b-b5b6867a1bb0"
      },
      "execution_count": 8,
      "outputs": [
        {
          "output_type": "display_data",
          "data": {
            "text/plain": [
              "<IPython.core.display.Latex object>"
            ],
            "text/latex": "\\left[ \\begin{array}{ccc}1&3&5\\\\0&2&3\\\\0&0&3\\\\ \\end{array} \\right]"
          },
          "metadata": {}
        }
      ]
    },
    {
      "cell_type": "markdown",
      "metadata": {
        "id": "3y1hiNo_j1YC"
      },
      "source": [
        "-   Una matriz antisimétrica (es decir, que su transpuesta es igual a su opuesta: $ {A}^{T}=-A $ ).\n",
        "\n"
      ]
    },
    {
      "cell_type": "code",
      "source": [
        "a10=( [0, -2, 4] )\n",
        "b10=( [2, 0, 2] )\n",
        "c10=( [-4, -2, 0] )\n",
        "mat10=Matrix( [a10, b10, c10] )\n",
        "display(Latex(latex(mat10)))"
      ],
      "metadata": {
        "id": "JkzuC6kDeCSs",
        "colab": {
          "base_uri": "https://localhost:8080/",
          "height": 78
        },
        "outputId": "0da412a4-7250-472b-dccd-87b3230480c8"
      },
      "execution_count": 32,
      "outputs": [
        {
          "output_type": "display_data",
          "data": {
            "text/plain": [
              "<IPython.core.display.Latex object>"
            ],
            "text/latex": "\\left[ \\begin{array}{ccc}0&-2&4\\\\2&0&2\\\\-4&-2&0\\\\ \\end{array} \\right]"
          },
          "metadata": {}
        }
      ]
    },
    {
      "cell_type": "markdown",
      "source": [
        "### Cuarto ejercicio"
      ],
      "metadata": {
        "id": "Y-n7DWXJn7Zk"
      }
    },
    {
      "cell_type": "markdown",
      "metadata": {
        "ein.tags": "worksheet-0",
        "id": "053nn7kNnOXz"
      },
      "source": [
        "# Propiedades del producto Matriz por vector\n",
        "\n",
        "Genere una matriz $A$ (con el número de filas y columnas que\n",
        "desee) y dos vectores ${b}$ y ${c}$ con tantos componentes\n",
        "como columnas tenga $A$."
      ]
    },
    {
      "cell_type": "code",
      "execution_count": 9,
      "metadata": {
        "autoscroll": false,
        "ein.hycell": false,
        "ein.tags": "worksheet-0",
        "id": "MU-2x1n8Vpzq",
        "colab": {
          "base_uri": "https://localhost:8080/",
          "height": 78
        },
        "outputId": "3c7a035e-1c98-45b6-9a30-94502b717773"
      },
      "outputs": [
        {
          "output_type": "display_data",
          "data": {
            "text/plain": [
              "<IPython.core.display.Latex object>"
            ],
            "text/latex": "\\left[ \\begin{array}{ccc}9&3&5\\\\1&2&8\\\\3&0&9\\\\ \\end{array} \\right]"
          },
          "metadata": {}
        }
      ],
      "source": [
        "# Defina una matriz A\n",
        "a7=( [9, 3, 5] )\n",
        "b7=( [1, 2, 8] )\n",
        "c7=( [3, 0, 9] )\n",
        "mat7=Matrix( [a7, b7, c7] )\n",
        "display(Latex(latex(mat7)))\n"
      ]
    },
    {
      "cell_type": "code",
      "execution_count": 10,
      "metadata": {
        "autoscroll": false,
        "ein.hycell": false,
        "ein.tags": "worksheet-0",
        "id": "uoVFYfjqVpzq",
        "colab": {
          "base_uri": "https://localhost:8080/",
          "height": 78
        },
        "outputId": "cf387432-9d0f-4264-a31d-a9fa9b314b4b"
      },
      "outputs": [
        {
          "output_type": "display_data",
          "data": {
            "text/plain": [
              "<IPython.core.display.Latex object>"
            ],
            "text/latex": "\\left[ \\begin{array}{c}9\\\\5\\\\1\\\\ \\end{array} \\right]"
          },
          "metadata": {}
        }
      ],
      "source": [
        "# Defina el vector b con tantos componentes como columnas tenga la matriz A\n",
        "av=( [9] )\n",
        "bv=( [5] )\n",
        "cv=( [1] )\n",
        "vec=Matrix( [av, bv, cv] )\n",
        "display(Latex(latex(vec)))"
      ]
    },
    {
      "cell_type": "code",
      "execution_count": 11,
      "metadata": {
        "autoscroll": false,
        "ein.hycell": false,
        "ein.tags": "worksheet-0",
        "id": "5HbLkf1LVpzr",
        "colab": {
          "base_uri": "https://localhost:8080/",
          "height": 78
        },
        "outputId": "526bfe33-a158-476c-e5f6-69414f2d3a2e"
      },
      "outputs": [
        {
          "output_type": "display_data",
          "data": {
            "text/plain": [
              "<IPython.core.display.Latex object>"
            ],
            "text/latex": "\\left[ \\begin{array}{c}2\\\\8\\\\3\\\\ \\end{array} \\right]"
          },
          "metadata": {}
        }
      ],
      "source": [
        "# Defina el vector c con tantos componentes como el vector b\n",
        "av2=( [2] )\n",
        "bv2=( [8] )\n",
        "cv2=( [3] )\n",
        "vec2=Matrix( [av2, bv2, cv2] )\n",
        "display(Latex(latex(vec2)))"
      ]
    },
    {
      "cell_type": "markdown",
      "metadata": {
        "ein.tags": "worksheet-0",
        "id": "HQu3l79dVpzr"
      },
      "source": [
        "Y ahora verifique las propiedades vistas en el curso (en todos los\n",
        "casos, verifique sus ejemplos también con lapiz y papel... recuerde\n",
        "que primero se realizan las operaciones encerradas entre paréntesis).\n",
        "\n",
        "$$ A({b}+{c}) = A{b} + A{c} $$"
      ]
    },
    {
      "cell_type": "code",
      "execution_count": 12,
      "metadata": {
        "autoscroll": false,
        "ein.hycell": false,
        "ein.tags": "worksheet-0",
        "id": "hOUqYCBHVpzr",
        "colab": {
          "base_uri": "https://localhost:8080/",
          "height": 78
        },
        "outputId": "c3c80023-cbd0-4595-e48b-2c113a23419d"
      },
      "outputs": [
        {
          "output_type": "display_data",
          "data": {
            "text/plain": [
              "<IPython.core.display.Latex object>"
            ],
            "text/latex": "\\left[ \\begin{array}{c}158\\\\69\\\\69\\\\ \\end{array} \\right]"
          },
          "metadata": {}
        }
      ],
      "source": [
        "# escriba aquí la parte izquierda de la ecuación: A*(b+c)\n",
        "display(Latex(latex(mat7*(vec+vec2))))"
      ]
    },
    {
      "cell_type": "code",
      "execution_count": 13,
      "metadata": {
        "autoscroll": false,
        "ein.hycell": false,
        "ein.tags": "worksheet-0",
        "id": "86RAGkgoVpzs",
        "colab": {
          "base_uri": "https://localhost:8080/",
          "height": 78
        },
        "outputId": "996f9c7a-0e55-462f-dff6-f3f5c76db872"
      },
      "outputs": [
        {
          "output_type": "display_data",
          "data": {
            "text/plain": [
              "<IPython.core.display.Latex object>"
            ],
            "text/latex": "\\left[ \\begin{array}{c}158\\\\69\\\\69\\\\ \\end{array} \\right]"
          },
          "metadata": {}
        }
      ],
      "source": [
        "# escriba aquí la parte derecha de la ecuación\n",
        "display(Latex(latex((mat7*vec)+(mat7*vec2))))\n",
        "\n"
      ]
    },
    {
      "cell_type": "markdown",
      "source": [
        "Tanto por el lado de la derecha y de la izquierda el resultado es el mismo\n",
        "por lo tanto cumple las propiedades"
      ],
      "metadata": {
        "id": "O0o81yvQO5qq"
      }
    },
    {
      "cell_type": "markdown",
      "source": [
        "### Quinto ejercicio"
      ],
      "metadata": {
        "id": "u0ri5khNnCKl"
      }
    },
    {
      "cell_type": "markdown",
      "metadata": {
        "ein.tags": "worksheet-0",
        "id": "9pvYQ32mVpzs"
      },
      "source": [
        "Decida un valor para el escalar $\\lambda$ y verifique que\n",
        "$$ A(\\lambda{b}) = \\lambda(A{b})$$"
      ]
    },
    {
      "cell_type": "code",
      "execution_count": 14,
      "metadata": {
        "autoscroll": false,
        "ein.hycell": false,
        "ein.tags": "worksheet-0",
        "id": "E4IN_Yy2Vpzs",
        "colab": {
          "base_uri": "https://localhost:8080/",
          "height": 78
        },
        "outputId": "48383505-a9f6-4924-c6a5-9ed0900f014e"
      },
      "outputs": [
        {
          "output_type": "display_data",
          "data": {
            "text/plain": [
              "<IPython.core.display.Latex object>"
            ],
            "text/latex": "\\left[ \\begin{array}{c}285\\\\210\\\\165\\\\ \\end{array} \\right]"
          },
          "metadata": {}
        }
      ],
      "source": [
        "# escriba aquí la parte izquierda de la ecuación\n",
        "esc_lambda = 5\n",
        "display(Latex(latex(mat7*(5*vec2))))"
      ]
    },
    {
      "cell_type": "code",
      "execution_count": 15,
      "metadata": {
        "autoscroll": false,
        "ein.hycell": false,
        "ein.tags": "worksheet-0",
        "id": "Ceudy6FmVpzt",
        "colab": {
          "base_uri": "https://localhost:8080/",
          "height": 78
        },
        "outputId": "dfd9bf16-4aa3-4f64-d57a-179c019cefa6"
      },
      "outputs": [
        {
          "output_type": "display_data",
          "data": {
            "text/plain": [
              "<IPython.core.display.Latex object>"
            ],
            "text/latex": "\\left[ \\begin{array}{c}285\\\\210\\\\165\\\\ \\end{array} \\right]"
          },
          "metadata": {}
        }
      ],
      "source": [
        "# escriba aquí la parte derecha de la ecuación\n",
        "display(Latex(latex(5*(mat7*vec2))))"
      ]
    },
    {
      "cell_type": "markdown",
      "source": [
        "el resultado es el mismo por lo tanto se cumple las propiedades"
      ],
      "metadata": {
        "id": "bzAQyYtFJdX4"
      }
    },
    {
      "cell_type": "markdown",
      "metadata": {
        "ein.tags": "worksheet-0",
        "id": "OWAfF_SgVpzt"
      },
      "source": [
        "Verifique que\n",
        "$$ A(\\lambda{b}) = (\\lambda A){b}$$\n"
      ]
    },
    {
      "cell_type": "code",
      "execution_count": 16,
      "metadata": {
        "autoscroll": false,
        "ein.hycell": false,
        "ein.tags": "worksheet-0",
        "id": "ZRimSgGCVpzu",
        "colab": {
          "base_uri": "https://localhost:8080/",
          "height": 78
        },
        "outputId": "be6c6ffe-cefa-4734-aed0-f979ee39c979"
      },
      "outputs": [
        {
          "output_type": "display_data",
          "data": {
            "text/plain": [
              "<IPython.core.display.Latex object>"
            ],
            "text/latex": "\\left[ \\begin{array}{c}285\\\\210\\\\165\\\\ \\end{array} \\right]"
          },
          "metadata": {}
        }
      ],
      "source": [
        "# escriba aquí la parte derecha de la ecuación\n",
        "display(Latex(latex((5*mat7)*vec2)))"
      ]
    },
    {
      "cell_type": "markdown",
      "metadata": {
        "ein.tags": "worksheet-0",
        "id": "YlRYLashVpzu"
      },
      "source": [
        "Compuebe que en este caso no son necesarios los paréntesis:\n",
        "$$\\lambda A{b}\\;$$ (aunque en Python siempre necesite\n",
        "escribir los símbolos de producto `*`). Pruebe a colocar el escalar en\n",
        "cualquier posición, pero mantenga la matriz a la izquierda del vector."
      ]
    },
    {
      "cell_type": "code",
      "execution_count": 17,
      "metadata": {
        "autoscroll": false,
        "ein.hycell": false,
        "ein.tags": "worksheet-0",
        "id": "8mmZwTxMVpzv",
        "colab": {
          "base_uri": "https://localhost:8080/",
          "height": 78
        },
        "outputId": "3dd23439-fdd5-4500-b3f2-db3b3f0a380c"
      },
      "outputs": [
        {
          "output_type": "display_data",
          "data": {
            "text/plain": [
              "<IPython.core.display.Latex object>"
            ],
            "text/latex": "\\left[ \\begin{array}{c}285\\\\210\\\\165\\\\ \\end{array} \\right]"
          },
          "metadata": {}
        }
      ],
      "source": [
        "# Por ejemplo 3*A*b, o A*3*b, o A*b*3\n",
        "display(Latex(latex(5*mat7*vec2)))\n"
      ]
    },
    {
      "cell_type": "markdown",
      "source": [
        "### Sexto ejercicio"
      ],
      "metadata": {
        "id": "nRqO8LxBoNSI"
      }
    },
    {
      "cell_type": "markdown",
      "metadata": {
        "ein.tags": "worksheet-0",
        "id": "VSZ8vItpVpzv"
      },
      "source": [
        "Genere una matriz ${B}$ del mismo orden que $A$"
      ]
    },
    {
      "cell_type": "code",
      "execution_count": 18,
      "metadata": {
        "autoscroll": false,
        "ein.hycell": false,
        "ein.tags": "worksheet-0",
        "id": "NkFmEED_Vpzw",
        "colab": {
          "base_uri": "https://localhost:8080/",
          "height": 78
        },
        "outputId": "af7a826f-d582-4b23-e734-69fc31b12467"
      },
      "outputs": [
        {
          "output_type": "display_data",
          "data": {
            "text/plain": [
              "<IPython.core.display.Latex object>"
            ],
            "text/latex": "\\left[ \\begin{array}{ccc}8&3&7\\\\1&0&0\\\\2&0&4\\\\ \\end{array} \\right]"
          },
          "metadata": {}
        }
      ],
      "source": [
        "# Defina una matriz B\n",
        "a8=( [8, 3, 7] )\n",
        "b8=( [1, 0, 0] )\n",
        "c8=( [2, 0, 4] )\n",
        "mat8=Matrix( [a8, b8, c8] )\n",
        "display(Latex(latex(mat8)))"
      ]
    },
    {
      "cell_type": "markdown",
      "metadata": {
        "ein.tags": "worksheet-0",
        "id": "nqSTOOY0Vpzw"
      },
      "source": [
        "Verifique que\n",
        "\n",
        "$$ (A+B){c} = A{c} + B{c}$$"
      ]
    },
    {
      "cell_type": "code",
      "execution_count": 41,
      "metadata": {
        "autoscroll": false,
        "ein.hycell": false,
        "ein.tags": "worksheet-0",
        "id": "c1YZo_1NVpzx",
        "colab": {
          "base_uri": "https://localhost:8080/",
          "height": 78
        },
        "outputId": "c8996525-61e4-4218-d542-049740b52978"
      },
      "outputs": [
        {
          "output_type": "display_data",
          "data": {
            "text/plain": [
              "<IPython.core.display.Latex object>"
            ],
            "text/latex": "\\left[ \\begin{array}{c}118\\\\44\\\\49\\\\ \\end{array} \\right]"
          },
          "metadata": {}
        }
      ],
      "source": [
        "# escriba aquí la parte izquierda de la ecuación (¿funciona sin paréntesis?)\n",
        "display(Latex(latex((mat7+mat8)*vec2)))"
      ]
    },
    {
      "cell_type": "code",
      "execution_count": 40,
      "metadata": {
        "autoscroll": false,
        "ein.hycell": false,
        "ein.tags": "worksheet-0",
        "id": "2utRvpmSVpzx",
        "colab": {
          "base_uri": "https://localhost:8080/",
          "height": 78
        },
        "outputId": "ba39d6eb-9989-4736-8d48-42b277fbc172"
      },
      "outputs": [
        {
          "output_type": "display_data",
          "data": {
            "text/plain": [
              "<IPython.core.display.Latex object>"
            ],
            "text/latex": "\\left[ \\begin{array}{c}118\\\\44\\\\49\\\\ \\end{array} \\right]"
          },
          "metadata": {}
        }
      ],
      "source": [
        "# escriba aquí la parte derecha de la ecuación\n",
        "display(Latex(latex((mat7*vec2)+(mat8*vec2))))"
      ]
    },
    {
      "cell_type": "markdown",
      "source": [
        "esa propiedad solo funcioina cuando la parte izquierda de la ecuación tiene paréntesis\n",
        "no funciona sin el paréntesis\n",
        "\n"
      ],
      "metadata": {
        "id": "qEI8LkDesBe-"
      }
    },
    {
      "cell_type": "markdown",
      "metadata": {
        "ein.tags": "worksheet-0",
        "id": "545Y5L3qVpz4"
      },
      "source": [
        "# Dos propiedades de la transposición\n",
        "\n",
        "Recuerde que `~A` es la transpuesta de `A`.\n",
        "\n",
        "Verfique que\n",
        "$$\n",
        "(A+B)^T=A^{T}+B^{T}\n",
        "$$"
      ]
    },
    {
      "cell_type": "code",
      "execution_count": 22,
      "metadata": {
        "autoscroll": false,
        "ein.hycell": false,
        "ein.tags": "worksheet-0",
        "id": "cQKD0ad-Vpz5",
        "colab": {
          "base_uri": "https://localhost:8080/",
          "height": 78
        },
        "outputId": "73d1c3e6-cafc-4999-844a-19a300665a4a"
      },
      "outputs": [
        {
          "output_type": "display_data",
          "data": {
            "text/plain": [
              "<IPython.core.display.Latex object>"
            ],
            "text/latex": "\\left[ \\begin{array}{ccc}17&2&5\\\\6&2&0\\\\12&8&13\\\\ \\end{array} \\right]"
          },
          "metadata": {}
        }
      ],
      "source": [
        "# escriba aquí la parte izquierda de la ecuación: ~(A + B)\n",
        "display(Latex(latex(~(mat7+mat8))))"
      ]
    },
    {
      "cell_type": "code",
      "execution_count": 24,
      "metadata": {
        "autoscroll": false,
        "ein.hycell": false,
        "ein.tags": "worksheet-0",
        "id": "P8MSW33aVpz6",
        "colab": {
          "base_uri": "https://localhost:8080/",
          "height": 78
        },
        "outputId": "a3546bd6-9624-4607-d875-899ca251e123"
      },
      "outputs": [
        {
          "output_type": "display_data",
          "data": {
            "text/plain": [
              "<IPython.core.display.Latex object>"
            ],
            "text/latex": "\\left[ \\begin{array}{ccc}17&2&5\\\\6&2&0\\\\12&8&13\\\\ \\end{array} \\right]"
          },
          "metadata": {}
        }
      ],
      "source": [
        "# escriba aquí la parte derecha de la ecuación\n",
        "display(Latex(latex(~mat7+~mat8)))"
      ]
    },
    {
      "cell_type": "markdown",
      "source": [
        "se cumplen las propiedades por lo tal se comprueba la propiedad"
      ],
      "metadata": {
        "id": "sR8dgljWgNyG"
      }
    },
    {
      "cell_type": "markdown",
      "metadata": {
        "ein.tags": "worksheet-0",
        "id": "g2A04WcFVpz6"
      },
      "source": [
        "¿Necesitamos usar paréntesis para el lado izquierdo? ¿Y para el derecho?"
      ]
    },
    {
      "cell_type": "markdown",
      "metadata": {
        "ein.tags": "worksheet-0",
        "id": "ZcOfdLECVpz7"
      },
      "source": [
        "Decida un valor para $\\lambda$ y verfique que\n",
        "$$\n",
        "(\\lambda A)^T=\\lambda(A^{T})\n",
        "$$"
      ]
    },
    {
      "cell_type": "code",
      "execution_count": 27,
      "metadata": {
        "autoscroll": false,
        "ein.hycell": false,
        "ein.tags": "worksheet-0",
        "id": "SVar9B-6Vpz7",
        "colab": {
          "base_uri": "https://localhost:8080/",
          "height": 78
        },
        "outputId": "50e86a3a-ab82-4d29-d0e3-3f407d4e29ed"
      },
      "outputs": [
        {
          "output_type": "display_data",
          "data": {
            "text/plain": [
              "<IPython.core.display.Latex object>"
            ],
            "text/latex": "\\left[ \\begin{array}{ccc}18&2&6\\\\6&4&0\\\\10&16&18\\\\ \\end{array} \\right]"
          },
          "metadata": {}
        }
      ],
      "source": [
        "# escriba aquí la parte izquierda de la ecuación:\n",
        "display(Latex(latex(~(2*mat7))))"
      ]
    },
    {
      "cell_type": "code",
      "execution_count": 26,
      "metadata": {
        "autoscroll": false,
        "ein.hycell": false,
        "ein.tags": "worksheet-0",
        "id": "06Eys9o2Vpz8",
        "colab": {
          "base_uri": "https://localhost:8080/",
          "height": 78
        },
        "outputId": "8bb1f14e-56dd-45a0-eb86-4c4e16e084c6"
      },
      "outputs": [
        {
          "output_type": "display_data",
          "data": {
            "text/plain": [
              "<IPython.core.display.Latex object>"
            ],
            "text/latex": "\\left[ \\begin{array}{ccc}18&2&6\\\\6&4&0\\\\10&16&18\\\\ \\end{array} \\right]"
          },
          "metadata": {}
        }
      ],
      "source": [
        "# escriba aquí la parte derecha de la ecuación\n",
        "display(Latex(latex(2*(~mat7))))"
      ]
    },
    {
      "cell_type": "markdown",
      "source": [
        "da el mismo resultado por lo cual cumple con las propiedades por la derecha y por la izquierda"
      ],
      "metadata": {
        "id": "s4xH1rVPkUzk"
      }
    }
  ]
}