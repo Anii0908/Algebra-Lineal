{
  "nbformat": 4,
  "nbformat_minor": 0,
  "metadata": {
    "colab": {
      "provenance": []
    },
    "kernelspec": {
      "name": "python3",
      "display_name": "Python 3"
    },
    "language_info": {
      "name": "python"
    }
  },
  "cells": [
    {
      "cell_type": "markdown",
      "source": [
        "#Tarea 1\n",
        "A continuacion se resuelven las preguntas de las paginas **8** y **9** del libro\n"
      ],
      "metadata": {
        "id": "uc2GiTmO75ll"
      }
    },
    {
      "cell_type": "code",
      "execution_count": null,
      "metadata": {
        "colab": {
          "base_uri": "https://localhost:8080/",
          "height": 222
        },
        "id": "yzK9L7tK71-g",
        "outputId": "e04ef01a-f0ca-4f27-fcf0-31437a046141"
      },
      "outputs": [
        {
          "output_type": "stream",
          "name": "stdout",
          "text": [
            "Drive already mounted at /content/drive; to attempt to forcibly remount, call drive.mount(\"/content/drive\", force_remount=True).\n"
          ]
        },
        {
          "output_type": "error",
          "ename": "FileExistsError",
          "evalue": "[Errno 17] File exists: '/content/drive/My Drive/Colab Notebooks' -> '/content/notebooks'",
          "traceback": [
            "\u001b[0;31m---------------------------------------------------------------------------\u001b[0m",
            "\u001b[0;31mFileExistsError\u001b[0m                           Traceback (most recent call last)",
            "\u001b[0;32m<ipython-input-3-794269fa364e>\u001b[0m in \u001b[0;36m<cell line: 7>\u001b[0;34m()\u001b[0m\n\u001b[1;32m      5\u001b[0m \u001b[0mdrive\u001b[0m\u001b[0;34m.\u001b[0m\u001b[0mmount\u001b[0m\u001b[0;34m(\u001b[0m\u001b[0;34m'/content/drive'\u001b[0m\u001b[0;34m)\u001b[0m\u001b[0;34m\u001b[0m\u001b[0;34m\u001b[0m\u001b[0m\n\u001b[1;32m      6\u001b[0m \u001b[0mnb_path\u001b[0m \u001b[0;34m=\u001b[0m \u001b[0;34m'/content/notebooks'\u001b[0m\u001b[0;34m\u001b[0m\u001b[0;34m\u001b[0m\u001b[0m\n\u001b[0;32m----> 7\u001b[0;31m \u001b[0mos\u001b[0m\u001b[0;34m.\u001b[0m\u001b[0msymlink\u001b[0m\u001b[0;34m(\u001b[0m\u001b[0;34m'/content/drive/My Drive/Colab Notebooks'\u001b[0m\u001b[0;34m,\u001b[0m \u001b[0mnb_path\u001b[0m\u001b[0;34m)\u001b[0m\u001b[0;34m\u001b[0m\u001b[0;34m\u001b[0m\u001b[0m\n\u001b[0m\u001b[1;32m      8\u001b[0m \u001b[0msys\u001b[0m\u001b[0;34m.\u001b[0m\u001b[0mpath\u001b[0m\u001b[0;34m.\u001b[0m\u001b[0minsert\u001b[0m\u001b[0;34m(\u001b[0m\u001b[0;36m0\u001b[0m\u001b[0;34m,\u001b[0m\u001b[0mnb_path\u001b[0m\u001b[0;34m)\u001b[0m\u001b[0;34m\u001b[0m\u001b[0;34m\u001b[0m\u001b[0m\n",
            "\u001b[0;31mFileExistsError\u001b[0m: [Errno 17] File exists: '/content/drive/My Drive/Colab Notebooks' -> '/content/notebooks'"
          ]
        }
      ],
      "source": [
        "\n",
        "#se ejecuta siempre que se abre el programa y primero configuramos las librerias\n",
        "import os, sys\n",
        "from google.colab import drive\n",
        "drive.mount('/content/drive')\n",
        "nb_path = '/content/notebooks'\n",
        "os.symlink('/content/drive/My Drive/Colab Notebooks', nb_path)\n",
        "sys.path.insert(0,nb_path)"
      ]
    },
    {
      "cell_type": "code",
      "source": [
        "#se ejecuta solo si es la primera vez\n",
        "!pip install --target=$nb_path nacal"
      ],
      "metadata": {
        "id": "FyJMxjoXFktd",
        "colab": {
          "base_uri": "https://localhost:8080/"
        },
        "outputId": "e5766154-b043-4ca2-901a-36f9cf01e945"
      },
      "execution_count": null,
      "outputs": [
        {
          "output_type": "stream",
          "name": "stdout",
          "text": [
            "Collecting nacal\n",
            "  Downloading nacal-0.1.30-py3-none-any.whl (33 kB)\n",
            "Collecting sympy>=1.1.0 (from nacal)\n",
            "  Downloading sympy-1.12-py3-none-any.whl (5.7 MB)\n",
            "\u001b[2K     \u001b[90m━━━━━━━━━━━━━━━━━━━━━━━━━━━━━━━━━━━━━━━━\u001b[0m \u001b[32m5.7/5.7 MB\u001b[0m \u001b[31m18.0 MB/s\u001b[0m eta \u001b[36m0:00:00\u001b[0m\n",
            "\u001b[?25hCollecting mpmath>=0.19 (from sympy>=1.1.0->nacal)\n",
            "  Downloading mpmath-1.3.0-py3-none-any.whl (536 kB)\n",
            "\u001b[2K     \u001b[90m━━━━━━━━━━━━━━━━━━━━━━━━━━━━━━━━━━━━━━━━\u001b[0m \u001b[32m536.2/536.2 kB\u001b[0m \u001b[31m27.2 MB/s\u001b[0m eta \u001b[36m0:00:00\u001b[0m\n",
            "\u001b[?25hInstalling collected packages: mpmath, sympy, nacal\n",
            "Successfully installed mpmath-1.3.0 nacal-0.1.30 sympy-1.12\n"
          ]
        }
      ]
    },
    {
      "cell_type": "code",
      "source": [
        "#se importan las librerias\n",
        "from nacal import *\n",
        "from IPython.display import display, Math, Latex\n",
        "dos = Vector( [0, 4, 6] )\n",
        "print(2*dos)\n",
        "Latex(latex(2*dos))"
      ],
      "metadata": {
        "colab": {
          "base_uri": "https://localhost:8080/",
          "height": 97
        },
        "id": "VdO_fn5w-ob-",
        "outputId": "6ecb27ec-3265-4e02-bc48-1e3be27eb45f"
      },
      "execution_count": null,
      "outputs": [
        {
          "output_type": "stream",
          "name": "stdout",
          "text": [
            "Vector([0, 8, 12])\n"
          ]
        },
        {
          "output_type": "execute_result",
          "data": {
            "text/plain": [
              "<IPython.core.display.Latex object>"
            ],
            "text/latex": "\\begin{pmatrix}0\\\\ 8\\\\ 12\\end{pmatrix}"
          },
          "metadata": {},
          "execution_count": 13
        }
      ]
    },
    {
      "cell_type": "markdown",
      "source": [
        "##PREGUNTA 1\n",
        "¿Es verdad que $$\\begin{pmatrix}1\\\\2\\\\3\\\\\\end{pmatrix}+\\begin{pmatrix}4\\\\5\\\\6\\\\\\end{pmatrix}=\\begin{pmatrix}4\\\\5\\\\6\\\\\\end{pmatrix}+\\begin{pmatrix}1\\\\2\\\\3\\\\\\end{pmatrix}$$\n",
        "\n",
        "¿Es cierto solo para los números del ejemplo? o ¿es una regla general para cualquier par de vectores?"
      ],
      "metadata": {
        "id": "n12Ms6TdAUDR"
      }
    },
    {
      "cell_type": "code",
      "source": [
        "uno = Vector( [1, 2, 3] )\n",
        "dos = Vector( [4, 5, 6] )\n",
        "display(Latex(latex(uno+dos)))\n",
        "display(Latex(latex(uno+dos)))"
      ],
      "metadata": {
        "colab": {
          "base_uri": "https://localhost:8080/",
          "height": 139
        },
        "id": "4nwE_IEfEWE_",
        "outputId": "bff47189-4cdf-48da-d878-79ba27bde800"
      },
      "execution_count": null,
      "outputs": [
        {
          "output_type": "display_data",
          "data": {
            "text/plain": [
              "<IPython.core.display.Latex object>"
            ],
            "text/latex": "\\begin{pmatrix}5\\\\ 7\\\\ 9\\end{pmatrix}"
          },
          "metadata": {}
        },
        {
          "output_type": "display_data",
          "data": {
            "text/plain": [
              "<IPython.core.display.Latex object>"
            ],
            "text/latex": "\\begin{pmatrix}5\\\\ 7\\\\ 9\\end{pmatrix}"
          },
          "metadata": {}
        }
      ]
    },
    {
      "cell_type": "markdown",
      "source": [
        "###Respuesta\n",
        "Verdadero para cualquier par de vectores posible"
      ],
      "metadata": {
        "id": "nEEDjqrUFacl"
      }
    },
    {
      "cell_type": "markdown",
      "source": [
        "##Pregunta 2\n",
        "¿Es verdad que $$\\begin{pmatrix}1\\\\2\\\\\\end{pmatrix}\\begin{pmatrix}\\begin{pmatrix}4\\\\5\\\\\\end{pmatrix}+\\begin{pmatrix}1\\\\0\\\\\\end{pmatrix}\\end{pmatrix}=\\begin{pmatrix}\\begin{pmatrix}1\\\\2\\\\\\end{pmatrix}+\\begin{pmatrix}4\\\\5\\\\\\end{pmatrix}\\end{pmatrix}+\\begin{pmatrix}1\\\\0\\\\\\end{pmatrix}$$\n",
        "*El parentesis significa que primero hay que hacer la suma dentro del parentesis, y al vector resultante sumarle el vector de fuera.*\n",
        "\n",
        "¿Es cierto solo para los números del ejemplo? o ¿es una regla general para cualquier trio de vectores?"
      ],
      "metadata": {
        "id": "l1EzexsaFmLo"
      }
    },
    {
      "cell_type": "code",
      "source": [
        "a=Vector([1,2])\n",
        "b=Vector([4,5])\n",
        "c=Vector([1,0])\n",
        "display(Latex(latex(a+(b+c))))\n",
        "display(Latex(latex((a+b)+c)))"
      ],
      "metadata": {
        "colab": {
          "base_uri": "https://localhost:8080/",
          "height": 98
        },
        "id": "3RobjWrK2t-p",
        "outputId": "226327a6-e3ec-4c10-d269-7340a14e70e7"
      },
      "execution_count": null,
      "outputs": [
        {
          "output_type": "display_data",
          "data": {
            "text/plain": [
              "<IPython.core.display.Latex object>"
            ],
            "text/latex": "\\begin{pmatrix}6\\\\ 7\\end{pmatrix}"
          },
          "metadata": {}
        },
        {
          "output_type": "display_data",
          "data": {
            "text/plain": [
              "<IPython.core.display.Latex object>"
            ],
            "text/latex": "\\begin{pmatrix}6\\\\ 7\\end{pmatrix}"
          },
          "metadata": {}
        }
      ]
    },
    {
      "cell_type": "markdown",
      "source": [
        "### Respuesta\n",
        "Esto es cierto para cualquier numero trio de vectores"
      ],
      "metadata": {
        "id": "XY9V2tWC7REZ"
      }
    },
    {
      "cell_type": "markdown",
      "source": [
        "## Pregunta 3\n",
        "¿Es verdad que $$\\begin{pmatrix}4\\\\5\\\\6\\\\\\end{pmatrix}+\\begin{pmatrix}0\\\\0\\\\0\\\\\\end{pmatrix}=\\begin{pmatrix}4\\\\5\\\\6\\\\\\end{pmatrix}$$\n",
        "\n",
        "¿Es cierto solo para los vectores del ejemplo? o ¿Es una regla general para cualquier par de vectores?"
      ],
      "metadata": {
        "id": "2tkIOvmn7nfQ"
      }
    },
    {
      "cell_type": "code",
      "source": [
        "uno=Vector([4,5,6])\n",
        "dos=Vector([7,8,9])\n",
        "tres=Vector([0,0,0])\n",
        "display(Latex(latex(uno+tres)))\n",
        "display(Latex(latex(dos+tres)))"
      ],
      "metadata": {
        "colab": {
          "base_uri": "https://localhost:8080/",
          "height": 139
        },
        "id": "S_p3wY6d8lVh",
        "outputId": "a29966dc-1187-4af8-81f3-4b37a6c123ab"
      },
      "execution_count": null,
      "outputs": [
        {
          "output_type": "display_data",
          "data": {
            "text/plain": [
              "<IPython.core.display.Latex object>"
            ],
            "text/latex": "\\begin{pmatrix}4\\\\ 5\\\\ 6\\end{pmatrix}"
          },
          "metadata": {}
        },
        {
          "output_type": "display_data",
          "data": {
            "text/plain": [
              "<IPython.core.display.Latex object>"
            ],
            "text/latex": "\\begin{pmatrix}7\\\\ 8\\\\ 9\\end{pmatrix}"
          },
          "metadata": {}
        }
      ]
    },
    {
      "cell_type": "markdown",
      "source": [
        "### Respuesta\n",
        "Es verdadera para cuaquier par de vectores"
      ],
      "metadata": {
        "id": "Gfkr1VaR9ZUn"
      }
    },
    {
      "cell_type": "markdown",
      "source": [
        "## Pregunta 4\n",
        "\n",
        "¿Es verdad que $$\\begin{pmatrix}4\\\\5\\\\6\\\\\\end{pmatrix}+\\begin{pmatrix}-4\\\\-5\\\\-6\\\\\\end{pmatrix}=\\begin{pmatrix}0\\\\0\\\\0\\\\\\end{pmatrix}$$\n",
        "\n",
        "¿Es cierto solo para los vectores del ejemplo? o ¿es una regla general para cualquier par de vectores?"
      ],
      "metadata": {
        "id": "eC0icqQJ9jmX"
      }
    },
    {
      "cell_type": "code",
      "source": [
        "uno=Vector([4,5,6])\n",
        "dos=Vector([-4,-5,-6])\n",
        "tres=Vector([7,8,9])\n",
        "cuatro=Vector([-7,-8,-9])\n",
        "display(Latex(latex(uno+dos)))\n",
        "display(Latex(latex(tres+cuatro)))"
      ],
      "metadata": {
        "colab": {
          "base_uri": "https://localhost:8080/",
          "height": 139
        },
        "id": "28gQ08HQ97qo",
        "outputId": "ccd4252f-4d61-4ced-dcf7-d8c7c00a5374"
      },
      "execution_count": null,
      "outputs": [
        {
          "output_type": "display_data",
          "data": {
            "text/plain": [
              "<IPython.core.display.Latex object>"
            ],
            "text/latex": "\\begin{pmatrix}0\\\\ 0\\\\ 0\\end{pmatrix}"
          },
          "metadata": {}
        },
        {
          "output_type": "display_data",
          "data": {
            "text/plain": [
              "<IPython.core.display.Latex object>"
            ],
            "text/latex": "\\begin{pmatrix}0\\\\ 0\\\\ 0\\end{pmatrix}"
          },
          "metadata": {}
        }
      ]
    },
    {
      "cell_type": "markdown",
      "source": [
        "### Respuesta\n",
        "Esto es cierto para cualquier par de vectores"
      ],
      "metadata": {
        "id": "oK5ZncRF-ZHX"
      }
    },
    {
      "cell_type": "markdown",
      "source": [
        "## Pregunta 5\n",
        "\n",
        "¿Es verdad que $$2\\begin{pmatrix}\\begin{pmatrix}1\\\\-1\\\\\\end{pmatrix}+\\begin{pmatrix}4\\\\5\\\\\\end{pmatrix}\\end{pmatrix}=2\\begin{pmatrix}1\\\\-1\\\\\\end{pmatrix}+2\\begin{pmatrix}4\\\\5\\\\\\end{pmatrix}$$\n",
        "\n",
        "¿Es una regla general para cualquier par de vectores? ¿Y si cambiamos el escalar 2 por otro número?\n"
      ],
      "metadata": {
        "id": "wum_iuec_FPO"
      }
    },
    {
      "cell_type": "code",
      "source": [
        "uno=Vector([1,-1])\n",
        "dos=Vector([4,5])\n",
        "display(Latex(latex(2*(uno+dos))))\n",
        "display(Latex(latex((2*uno)+(2*dos))))\n",
        "display(Latex(latex(3*(uno+dos))))\n",
        "display(Latex(latex((3*uno)+(3*dos))))\n"
      ],
      "metadata": {
        "colab": {
          "base_uri": "https://localhost:8080/",
          "height": 180
        },
        "id": "E8iLayW4AG_P",
        "outputId": "4c535287-ea7f-4be0-eb21-b75709cff0b4"
      },
      "execution_count": null,
      "outputs": [
        {
          "output_type": "display_data",
          "data": {
            "text/plain": [
              "<IPython.core.display.Latex object>"
            ],
            "text/latex": "\\begin{pmatrix}10\\\\ 8\\end{pmatrix}"
          },
          "metadata": {}
        },
        {
          "output_type": "display_data",
          "data": {
            "text/plain": [
              "<IPython.core.display.Latex object>"
            ],
            "text/latex": "\\begin{pmatrix}10\\\\ 8\\end{pmatrix}"
          },
          "metadata": {}
        },
        {
          "output_type": "display_data",
          "data": {
            "text/plain": [
              "<IPython.core.display.Latex object>"
            ],
            "text/latex": "\\begin{pmatrix}15\\\\ 12\\end{pmatrix}"
          },
          "metadata": {}
        },
        {
          "output_type": "display_data",
          "data": {
            "text/plain": [
              "<IPython.core.display.Latex object>"
            ],
            "text/latex": "\\begin{pmatrix}15\\\\ 12\\end{pmatrix}"
          },
          "metadata": {}
        }
      ]
    },
    {
      "cell_type": "markdown",
      "source": [
        "### Respuesta\n",
        "Esta es una regla general para cualquier par de vectores\n",
        "\n",
        "Si cambiamos el escalar se sigue cumpliendo la condicion"
      ],
      "metadata": {
        "id": "subuH3bFAsGu"
      }
    },
    {
      "cell_type": "markdown",
      "source": [
        "## Pregunta 6\n",
        "\n",
        "¿Es verdad que $$(2+3)\\begin{pmatrix}1\\\\2\\\\3\\\\\\end{pmatrix}=2\\begin{pmatrix}1\\\\2\\\\3\\\\\\end{pmatrix}+3\\begin{pmatrix}1\\\\2\\\\3\\\\\\end{pmatrix}$$\n",
        "\n",
        "¿Es una regla general para cualquier par de vectores? ¿y si cambiamos los escalares **2** y **3** por otros números?"
      ],
      "metadata": {
        "id": "YSIc8CcUBFwO"
      }
    },
    {
      "cell_type": "code",
      "source": [
        "uno=Vector([1,2,3])\n",
        "display(Latex(latex((2+3)*uno)))\n",
        "display(Latex(latex((2*uno)+(3*uno))))\n",
        "display(Latex(latex((4+5)*uno)))\n",
        "display(Latex(latex((4*uno)+(5*uno))))"
      ],
      "metadata": {
        "colab": {
          "base_uri": "https://localhost:8080/",
          "height": 261
        },
        "id": "imxgo6w5CED3",
        "outputId": "0ca64cae-bdbf-4b73-8ab0-414387407702"
      },
      "execution_count": null,
      "outputs": [
        {
          "output_type": "display_data",
          "data": {
            "text/plain": [
              "<IPython.core.display.Latex object>"
            ],
            "text/latex": "\\begin{pmatrix}5\\\\ 10\\\\ 15\\end{pmatrix}"
          },
          "metadata": {}
        },
        {
          "output_type": "display_data",
          "data": {
            "text/plain": [
              "<IPython.core.display.Latex object>"
            ],
            "text/latex": "\\begin{pmatrix}5\\\\ 10\\\\ 15\\end{pmatrix}"
          },
          "metadata": {}
        },
        {
          "output_type": "display_data",
          "data": {
            "text/plain": [
              "<IPython.core.display.Latex object>"
            ],
            "text/latex": "\\begin{pmatrix}9\\\\ 18\\\\ 27\\end{pmatrix}"
          },
          "metadata": {}
        },
        {
          "output_type": "display_data",
          "data": {
            "text/plain": [
              "<IPython.core.display.Latex object>"
            ],
            "text/latex": "\\begin{pmatrix}9\\\\ 18\\\\ 27\\end{pmatrix}"
          },
          "metadata": {}
        }
      ]
    },
    {
      "cell_type": "markdown",
      "source": [
        "### Respuesta\n",
        "Es una regla para cualquier par de vectores\n",
        "\n",
        "Si cambiamos los escalares se sigue manteniendo la regla"
      ],
      "metadata": {
        "id": "VDyrXkr6CpC7"
      }
    },
    {
      "cell_type": "markdown",
      "source": [
        "## Pregunta 7\n",
        "\n",
        "¿Es verdad que $$2(3\\begin{pmatrix}1\\\\2\\\\\\end{pmatrix})=(2*3)\\begin{pmatrix}1\\\\2\\\\\\end{pmatrix}$$\n",
        "\n",
        "¿Es una regla general para cualquier par de vectores? ¿y si cambiamos los escalares **2** y **3** por otros números?\n"
      ],
      "metadata": {
        "id": "KXYfJwCzCyPS"
      }
    },
    {
      "cell_type": "code",
      "source": [
        "uno=Vector([1,2])\n",
        "display(Latex(latex((2*(3*uno)))))\n",
        "display(Latex(latex((2*3)*uno)))\n",
        "display(Latex(latex((4*(5*uno)))))\n",
        "display(Latex(latex((4*5)*uno)))"
      ],
      "metadata": {
        "colab": {
          "base_uri": "https://localhost:8080/",
          "height": 180
        },
        "id": "Z8hTanamDolK",
        "outputId": "96ffa338-93ed-4ec9-9567-357c2d3eab2e"
      },
      "execution_count": null,
      "outputs": [
        {
          "output_type": "display_data",
          "data": {
            "text/plain": [
              "<IPython.core.display.Latex object>"
            ],
            "text/latex": "\\begin{pmatrix}6\\\\ 12\\end{pmatrix}"
          },
          "metadata": {}
        },
        {
          "output_type": "display_data",
          "data": {
            "text/plain": [
              "<IPython.core.display.Latex object>"
            ],
            "text/latex": "\\begin{pmatrix}6\\\\ 12\\end{pmatrix}"
          },
          "metadata": {}
        },
        {
          "output_type": "display_data",
          "data": {
            "text/plain": [
              "<IPython.core.display.Latex object>"
            ],
            "text/latex": "\\begin{pmatrix}20\\\\ 40\\end{pmatrix}"
          },
          "metadata": {}
        },
        {
          "output_type": "display_data",
          "data": {
            "text/plain": [
              "<IPython.core.display.Latex object>"
            ],
            "text/latex": "\\begin{pmatrix}20\\\\ 40\\end{pmatrix}"
          },
          "metadata": {}
        }
      ]
    },
    {
      "cell_type": "markdown",
      "source": [
        "### Respuesta\n",
        "Es una regla para cualquier par de vectores\n",
        "\n",
        "Si cambiamos los escalares se sigue manteniendo la regla"
      ],
      "metadata": {
        "id": "FCNKiftHEDpw"
      }
    },
    {
      "cell_type": "markdown",
      "source": [
        "## Pregunta 8\n",
        "\n",
        "¿Es verdad que si *a = 1* $$a\\begin{pmatrix}1\\\\2\\\\3\\\\\\end{pmatrix}=\\begin{pmatrix}1\\\\2\\\\3\\\\\\end{pmatrix}$$\n",
        "\n",
        "¿Es cierto solo para el escalar *a = 1*?\n"
      ],
      "metadata": {
        "id": "_FoXLbS6EGUX"
      }
    },
    {
      "cell_type": "code",
      "source": [
        "uno=Vector([1,2,3])\n",
        "display(Latex(latex(1*uno)))"
      ],
      "metadata": {
        "colab": {
          "base_uri": "https://localhost:8080/",
          "height": 78
        },
        "id": "fienYbJJE2ET",
        "outputId": "e02a4fd3-aec5-4129-dc6b-2bc522b62f88"
      },
      "execution_count": null,
      "outputs": [
        {
          "output_type": "display_data",
          "data": {
            "text/plain": [
              "<IPython.core.display.Latex object>"
            ],
            "text/latex": "\\begin{pmatrix}1\\\\ 2\\\\ 3\\end{pmatrix}"
          },
          "metadata": {}
        }
      ]
    },
    {
      "cell_type": "markdown",
      "source": [
        "### Respuesta\n",
        "\n",
        "Solo es cierto para el escalar *a = 1* ya que si cambiamos el escalar nos dara un vector distinto"
      ],
      "metadata": {
        "id": "wwfP9J9bFDpS"
      }
    }
  ]
}