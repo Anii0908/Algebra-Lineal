{
  "nbformat": 4,
  "nbformat_minor": 0,
  "metadata": {
    "colab": {
      "provenance": []
    },
    "kernelspec": {
      "name": "python3",
      "display_name": "Python 3"
    },
    "language_info": {
      "name": "python"
    }
  },
  "cells": [
    {
      "cell_type": "markdown",
      "source": [
        "#####IMPORTANTE INICIALIZAR LOS DOS PRIMEROS CODIGOS PARA CARGAR LAS LIBRERIAS"
      ],
      "metadata": {
        "id": "2iA_gB0EF7QB"
      }
    },
    {
      "cell_type": "code",
      "execution_count": null,
      "metadata": {
        "id": "6O5EHvb_U456",
        "colab": {
          "base_uri": "https://localhost:8080/"
        },
        "outputId": "501ea404-7042-40f2-9864-30e40164e928"
      },
      "outputs": [
        {
          "output_type": "stream",
          "name": "stdout",
          "text": [
            "Collecting nacal\n",
            "  Downloading nacal-0.1.30-py3-none-any.whl (33 kB)\n",
            "Requirement already satisfied: sympy>=1.1.0 in /usr/local/lib/python3.10/dist-packages (from nacal) (1.12)\n",
            "Requirement already satisfied: mpmath>=0.19 in /usr/local/lib/python3.10/dist-packages (from sympy>=1.1.0->nacal) (1.3.0)\n",
            "Installing collected packages: nacal\n",
            "Successfully installed nacal-0.1.30\n"
          ]
        }
      ],
      "source": [
        "!pip install --target=$nb_path nacal"
      ]
    },
    {
      "cell_type": "markdown",
      "source": [],
      "metadata": {
        "id": "n4NQXtx7OlPL"
      }
    },
    {
      "cell_type": "code",
      "source": [
        "from nacal import *\n",
        "from IPython.display import display, Math, Latex"
      ],
      "metadata": {
        "id": "MWZTS3rsPsSz"
      },
      "execution_count": null,
      "outputs": []
    },
    {
      "cell_type": "markdown",
      "source": [
        "#TAREA 3\n"
      ],
      "metadata": {
        "id": "PyKwmXH2QLJ6"
      }
    },
    {
      "cell_type": "markdown",
      "source": [],
      "metadata": {
        "id": "WuWvnMdbQWba"
      }
    },
    {
      "cell_type": "code",
      "source": [
        "UNO=Vector( [1, 2, 3, 5] )\n",
        "DOS=Vector( [8, 7, 6,4] )\n",
        "TRES=Vector( [3, 5, 6, 2] )\n",
        "CUATRO=Vector( [3, 5, 4, 1] )\n",
        "CINCO=Matrix( [UNO, DOS, TRES, CUATRO] )\n",
        "display(Latex(latex(CINCO)))"
      ],
      "metadata": {
        "colab": {
          "base_uri": "https://localhost:8080/",
          "height": 99
        },
        "id": "8pYJ6NIbQwaq",
        "outputId": "0ffa7fb3-560e-4d29-af7f-0eb290fd2e82"
      },
      "execution_count": null,
      "outputs": [
        {
          "output_type": "display_data",
          "data": {
            "text/plain": [
              "<IPython.core.display.Latex object>"
            ],
            "text/latex": "\\left[ \\begin{array}{cccc}1&8&3&3\\\\2&7&5&5\\\\3&6&6&4\\\\5&4&2&1\\\\ \\end{array} \\right]"
          },
          "metadata": {}
        }
      ]
    },
    {
      "cell_type": "markdown",
      "source": [
        "definimos a matriz como la variable \"CINCO\"\n",
        "con columnas con nombres de \"UNO\",\"DOS\",\"TRES\"Y \"CUATRO\"\n",
        "La variable CINCO es en el ejercicio la matriz \"A\"\n",
        "\"UNO\" y \"DOS\" son nuestros b y c del ejercicio"
      ],
      "metadata": {
        "id": "Odo76bxckm5s"
      }
    },
    {
      "cell_type": "markdown",
      "source": [
        "##PROPIEDADES DE LINEALIDAD DEL VECTOR\n",
        "A+(b+c)=Ab+Ac"
      ],
      "metadata": {
        "id": "LBXt6y6eJgC4"
      }
    },
    {
      "cell_type": "code",
      "source": [
        "display(Latex(latex(CINCO*(UNO+DOS))))\n",
        "display(Latex(latex((CINCO*UNO)+(CINCO*DOS))))"
      ],
      "metadata": {
        "colab": {
          "base_uri": "https://localhost:8080/",
          "height": 180
        },
        "id": "SmS1vKhJR8UM",
        "outputId": "117228f6-2de2-4f1f-94e1-d8ce86f42813"
      },
      "execution_count": null,
      "outputs": [
        {
          "output_type": "display_data",
          "data": {
            "text/plain": [
              "<IPython.core.display.Latex object>"
            ],
            "text/latex": "\\begin{pmatrix}135\\\\ 171\\\\ 171\\\\ 108\\end{pmatrix}"
          },
          "metadata": {}
        },
        {
          "output_type": "display_data",
          "data": {
            "text/plain": [
              "<IPython.core.display.Latex object>"
            ],
            "text/latex": "\\begin{pmatrix}135\\\\ 171\\\\ 171\\\\ 108\\end{pmatrix}"
          },
          "metadata": {}
        }
      ]
    },
    {
      "cell_type": "markdown",
      "source": [
        "######SE DEMOSTRÓ QUE LA PROPIEDAD ES CORRECTA YA QUE AL REALIZAR LAS OPERACIONES DA EL MISMO RESULTADO"
      ],
      "metadata": {
        "id": "KGVbm4xNTEom"
      }
    },
    {
      "cell_type": "markdown",
      "source": [
        "A(גb)=ג (Ab)"
      ],
      "metadata": {
        "id": "fL8mfYzUNH6m"
      }
    },
    {
      "cell_type": "code",
      "source": [
        "  display(Latex(latex(CINCO*(2*UNO))))\n",
        "display(Latex(latex(2*(CINCO*UNO))))"
      ],
      "metadata": {
        "colab": {
          "base_uri": "https://localhost:8080/",
          "height": 180
        },
        "id": "0Ycfe7LwTMdc",
        "outputId": "baa246dc-edc7-4516-9c84-6d2676765017"
      },
      "execution_count": null,
      "outputs": [
        {
          "output_type": "display_data",
          "data": {
            "text/plain": [
              "<IPython.core.display.Latex object>"
            ],
            "text/latex": "\\begin{pmatrix}82\\\\ 112\\\\ 106\\\\ 48\\end{pmatrix}"
          },
          "metadata": {}
        },
        {
          "output_type": "display_data",
          "data": {
            "text/plain": [
              "<IPython.core.display.Latex object>"
            ],
            "text/latex": "\\begin{pmatrix}82\\\\ 112\\\\ 106\\\\ 48\\end{pmatrix}"
          },
          "metadata": {}
        }
      ]
    },
    {
      "cell_type": "markdown",
      "source": [
        "######SE DEMOSTRÓ QUE LA PROPIEDAD ES CORRECTA YA QUE AL REALIZAR LAS OPERACIONES DA EL MISMO RESULTADO"
      ],
      "metadata": {
        "id": "zSKS5X5sTsM0"
      }
    },
    {
      "cell_type": "markdown",
      "source": [
        "A(Bc)=[A(B|1]...A(B|N)c"
      ],
      "metadata": {
        "id": "G5DRxJKJRTV2"
      }
    },
    {
      "cell_type": "code",
      "source": [
        "SEIS=Vector( [6, 7, 3, 5] )\n",
        "SIETE=Vector( [11, 20, 33, 50] )\n",
        "OCHO=Vector( [70, 2, 9, 0] )\n",
        "NUEVE=Vector( [16, 23, 83, 25] )\n",
        "DIEZ=Matrix( [SEIS, SIETE, OCHO, NUEVE])\n",
        "display(Latex(latex(DIEZ)))\n"
      ],
      "metadata": {
        "colab": {
          "base_uri": "https://localhost:8080/",
          "height": 99
        },
        "id": "p8Gd5_3sSRul",
        "outputId": "9b785bda-84bc-44d5-99e3-ce03583761a2"
      },
      "execution_count": null,
      "outputs": [
        {
          "output_type": "display_data",
          "data": {
            "text/plain": [
              "<IPython.core.display.Latex object>"
            ],
            "text/latex": "\\left[ \\begin{array}{cccc}6&11&70&16\\\\7&20&2&23\\\\3&33&9&83\\\\5&50&0&25\\\\ \\end{array} \\right]"
          },
          "metadata": {}
        }
      ]
    },
    {
      "cell_type": "code",
      "source": [
        "display(Latex(latex(CINCO*(UNO*DIEZ))))\n",
        "display(Latex(latex((CINCO*DIEZ|1)+(CINCO*DIEZ|2)+(CINCO*DIEZ|3)+(CINCO*DIEZ|4))*UNO))"
      ],
      "metadata": {
        "id": "IZLPyPbwWxIs",
        "colab": {
          "base_uri": "https://localhost:8080/",
          "height": 116
        },
        "outputId": "7e2e3a6c-5a14-4895-d7a0-3f13cc42614b"
      },
      "execution_count": null,
      "outputs": [
        {
          "output_type": "display_data",
          "data": {
            "text/plain": [
              "<IPython.core.display.Latex object>"
            ],
            "text/latex": "\\begin{pmatrix}4865\\\\ 5593\\\\ 4912\\\\ 2508\\end{pmatrix}"
          },
          "metadata": {}
        },
        {
          "output_type": "display_data",
          "data": {
            "text/plain": [
              "<IPython.core.display.Latex object>"
            ]
          },
          "metadata": {}
        }
      ]
    },
    {
      "cell_type": "code",
      "source": [
        "display(Latex(latex((CINCO*DIEZ|1)+(CINCO*DIEZ|2)+(CINCO*DIEZ|3)+(CINCO*DIEZ|4))*UNO))"
      ],
      "metadata": {
        "colab": {
          "base_uri": "https://localhost:8080/",
          "height": 34
        },
        "id": "vTAilyViGysx",
        "outputId": "6b07d0b8-de37-4ce8-c0f9-706249599879"
      },
      "execution_count": null,
      "outputs": [
        {
          "output_type": "display_data",
          "data": {
            "text/plain": [
              "<IPython.core.display.Latex object>"
            ]
          },
          "metadata": {}
        }
      ]
    },
    {
      "cell_type": "markdown",
      "source": [
        "###Lineal en matriz"
      ],
      "metadata": {
        "id": "0JoLEdR0H6a-"
      }
    },
    {
      "cell_type": "markdown",
      "source": [
        "(A+B)c=Ac+Bc"
      ],
      "metadata": {
        "id": "lAiuZB12RpJB"
      }
    },
    {
      "cell_type": "code",
      "source": [
        "display(Latex(latex((CINCO+DIEZ)*DOS)))\n",
        "display(Latex(latex((CINCO*DOS)+(DIEZ*DOS))))\n",
        "\n"
      ],
      "metadata": {
        "colab": {
          "base_uri": "https://localhost:8080/",
          "height": 180
        },
        "id": "3xXJTHgSG8EA",
        "outputId": "c6c302bb-ef4d-493f-a076-92989e746675"
      },
      "execution_count": null,
      "outputs": [
        {
          "output_type": "display_data",
          "data": {
            "text/plain": [
              "<IPython.core.display.Latex object>"
            ],
            "text/latex": "\\begin{pmatrix}703\\\\ 415\\\\ 759\\\\ 574\\end{pmatrix}"
          },
          "metadata": {}
        },
        {
          "output_type": "display_data",
          "data": {
            "text/plain": [
              "<IPython.core.display.Latex object>"
            ],
            "text/latex": "\\begin{pmatrix}703\\\\ 415\\\\ 759\\\\ 574\\end{pmatrix}"
          },
          "metadata": {}
        }
      ]
    },
    {
      "cell_type": "markdown",
      "source": [
        "(ג  A)b=ג (Ab)"
      ],
      "metadata": {
        "id": "3gfAoUhoR8nr"
      }
    },
    {
      "cell_type": "code",
      "source": [
        "display(Latex(latex((2*CINCO)*UNO)))\n",
        "\n",
        "display(Latex(latex(2*(CINCO*UNO))))\n",
        "\n"
      ],
      "metadata": {
        "colab": {
          "base_uri": "https://localhost:8080/",
          "height": 180
        },
        "id": "2HDKjtgFH_fF",
        "outputId": "4e744ed3-3983-4dc0-c3da-a57138ae1009"
      },
      "execution_count": null,
      "outputs": [
        {
          "output_type": "display_data",
          "data": {
            "text/plain": [
              "<IPython.core.display.Latex object>"
            ],
            "text/latex": "\\begin{pmatrix}82\\\\ 112\\\\ 106\\\\ 48\\end{pmatrix}"
          },
          "metadata": {}
        },
        {
          "output_type": "display_data",
          "data": {
            "text/plain": [
              "<IPython.core.display.Latex object>"
            ],
            "text/latex": "\\begin{pmatrix}82\\\\ 112\\\\ 106\\\\ 48\\end{pmatrix}"
          },
          "metadata": {}
        }
      ]
    },
    {
      "cell_type": "markdown",
      "source": [
        "###Dan los mismos resultados de ambas maneras así que se comprueba las propiedades de linealidad de matrices"
      ],
      "metadata": {
        "id": "WvbyuyNjI3lS"
      }
    },
    {
      "cell_type": "markdown",
      "source": [],
      "metadata": {
        "id": "B4CyNv8YG-1m"
      }
    }
  ]
}