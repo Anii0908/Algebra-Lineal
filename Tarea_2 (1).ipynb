{
  "nbformat": 4,
  "nbformat_minor": 0,
  "metadata": {
    "colab": {
      "provenance": [],
      "toc_visible": true
    },
    "kernelspec": {
      "name": "python3",
      "display_name": "Python 3"
    },
    "language_info": {
      "name": "python"
    }
  },
  "cells": [
    {
      "cell_type": "markdown",
      "source": [
        "# Tarea 2\n"
      ],
      "metadata": {
        "id": "gCgE3LwxSxZQ"
      }
    },
    {
      "cell_type": "code",
      "execution_count": 2,
      "metadata": {
        "colab": {
          "base_uri": "https://localhost:8080/"
        },
        "id": "BdWd8Fv_SrLL",
        "outputId": "62c4929a-1b55-403d-a975-737716e6ddc0"
      },
      "outputs": [
        {
          "output_type": "stream",
          "name": "stdout",
          "text": [
            "Collecting nacal\n",
            "  Downloading nacal-0.1.30-py3-none-any.whl (33 kB)\n",
            "Requirement already satisfied: sympy>=1.1.0 in /usr/local/lib/python3.10/dist-packages (from nacal) (1.12)\n",
            "Requirement already satisfied: mpmath>=0.19 in /usr/local/lib/python3.10/dist-packages (from sympy>=1.1.0->nacal) (1.3.0)\n",
            "Installing collected packages: nacal\n",
            "Successfully installed nacal-0.1.30\n"
          ]
        }
      ],
      "source": [
        "!pip install --target=$nb_path nacal\n",
        "from nacal import *\n",
        "from IPython.display import display, Math, Latex"
      ]
    },
    {
      "cell_type": "code",
      "source": [
        "d = Vector( [4, 5, 6, 7, 8] )\n",
        "e = Vector( [1, 2, 3, 4, 5] )\n",
        "f = Vector( [9, 10, 11, 12, 13] )\n",
        "b = Matrix([d, e, f])\n",
        "a = Matrix([f, e, d])\n",
        "c = Matrix([e, f, d])\n",
        "latex(b)\n",
        "latex(a)"
      ],
      "metadata": {
        "colab": {
          "base_uri": "https://localhost:8080/",
          "height": 35
        },
        "id": "fCmz_leXU9UG",
        "outputId": "33f7758c-e453-4532-b751-54bd1c58a0e1"
      },
      "execution_count": 24,
      "outputs": [
        {
          "output_type": "execute_result",
          "data": {
            "text/plain": [
              "'\\\\left[ \\\\begin{array}{ccc}9&1&4\\\\\\\\10&2&5\\\\\\\\11&3&6\\\\\\\\12&4&7\\\\\\\\13&5&8\\\\\\\\ \\\\end{array} \\\\right]'"
            ],
            "application/vnd.google.colaboratory.intrinsic+json": {
              "type": "string"
            }
          },
          "metadata": {},
          "execution_count": 24
        }
      ]
    },
    {
      "cell_type": "markdown",
      "source": [
        "\\left[ \\begin{array}{ccc}9&1&4\\\\10&2&5\\\\11&3&6\\\\12&4&7\\\\13&5&8\\\\ \\end{array} \\right]\n"
      ],
      "metadata": {
        "id": "06sUGsu4ueRq"
      }
    },
    {
      "cell_type": "markdown",
      "source": [
        "## --Ejercicio 4---\n",
        "¿Cómo evalúa el módulo NAcAL las siguientes expresiones?\n",
        "\n",
        "(a) $$3*b|1$$\n",
        "(b) $$3*1|b$$\n",
        "(c) $$1*3|b$$\n",
        "(d) $$1|b*3$$"
      ],
      "metadata": {
        "id": "xUUphbpTS5hn"
      }
    },
    {
      "cell_type": "code",
      "source": [
        "print(3*b|1)\n",
        "print(3*1|b)\n",
        "print(1*3|b)\n",
        "print(1|b*3)"
      ],
      "metadata": {
        "colab": {
          "base_uri": "https://localhost:8080/"
        },
        "id": "skoIW42iULVv",
        "outputId": "0bd08523-4cda-488b-fc38-09b746e819dd"
      },
      "execution_count": 12,
      "outputs": [
        {
          "output_type": "stream",
          "name": "stdout",
          "text": [
            "Vector([12, 15, 18, 21, 24])\n",
            "Vector([6, 3, 11])\n",
            "Vector([6, 3, 11])\n",
            "Vector([12, 3, 27])\n"
          ]
        }
      ]
    },
    {
      "cell_type": "markdown",
      "source": [
        "\n",
        "Vector([12, 15, 18, 21, 24])\n",
        "Vector([6, 3, 11])\n",
        "Vector([6, 3, 11])\n",
        "Vector([12, 3, 27])\n",
        "> Bloque con sangría\n",
        "\n"
      ],
      "metadata": {
        "id": "Trw8mvZ6ut5V"
      }
    },
    {
      "cell_type": "markdown",
      "source": [
        "## ---Ejercicio 6---"
      ],
      "metadata": {
        "id": "7KlA6qWRWeCO"
      }
    },
    {
      "cell_type": "markdown",
      "source": [
        "Demuestre las propiedades de la siguiente proposición.\n",
        "Proposición 1.5.1 (Propiedades de las operaciones entre matrices). Para cualesquiera matrices A, B y C\n",
        "de idéntico orden y para cualesquiera escalares λ y η, se verifica que **texto en negrita**"
      ],
      "metadata": {
        "id": "VyHFUgLQU6Wv"
      }
    },
    {
      "cell_type": "code",
      "source": [
        "print(latex(a+b))\n",
        "print(latex(b+a))"
      ],
      "metadata": {
        "colab": {
          "base_uri": "https://localhost:8080/"
        },
        "id": "6tBVTdsLXHyl",
        "outputId": "2fdbe0eb-a6c7-41d5-ade0-d466ce246b0a"
      },
      "execution_count": 21,
      "outputs": [
        {
          "output_type": "stream",
          "name": "stdout",
          "text": [
            "\\left[ \\begin{array}{ccc}13&2&13\\\\15&4&15\\\\17&6&17\\\\19&8&19\\\\21&10&21\\\\ \\end{array} \\right]\n",
            "\\left[ \\begin{array}{ccc}13&2&13\\\\15&4&15\\\\17&6&17\\\\19&8&19\\\\21&10&21\\\\ \\end{array} \\right]\n"
          ]
        }
      ]
    },
    {
      "cell_type": "markdown",
      "source": [
        "\\left[ \\begin{array}{ccc}13&2&13\\\\15&4&15\\\\17&6&17\\\\19&8&19\\\\21&10&21\\\\ \\end{array} \\right]\n",
        "\\left[ \\begin{array}{ccc}13&2&13\\\\15&4&15\\\\17&6&17\\\\19&8&19\\\\21&10&21\\\\ \\end{array} \\right]\n"
      ],
      "metadata": {
        "id": "HPsvBz2Bl8xF"
      }
    },
    {
      "cell_type": "code",
      "source": [
        "print(latex(a+(b+c)))\n",
        "print(latex((a+b)+c))"
      ],
      "metadata": {
        "colab": {
          "base_uri": "https://localhost:8080/"
        },
        "id": "BaKnCahoX-3m",
        "outputId": "2af18d43-93c7-4da2-8051-9fd14332f94b"
      },
      "execution_count": 16,
      "outputs": [
        {
          "output_type": "stream",
          "name": "stdout",
          "text": [
            "\\left[ \\begin{array}{ccc}14&11&17\\\\17&14&20\\\\20&17&23\\\\23&20&26\\\\26&23&29\\\\ \\end{array} \\right]\n",
            "\\left[ \\begin{array}{ccc}14&11&17\\\\17&14&20\\\\20&17&23\\\\23&20&26\\\\26&23&29\\\\ \\end{array} \\right]\n"
          ]
        }
      ]
    },
    {
      "cell_type": "markdown",
      "source": [
        "\\left[ \\begin{array}{ccc}14&11&17\\\\17&14&20\\\\20&17&23\\\\23&20&26\\\\26&23&29\\\\ \\end{array} \\right]\n",
        "\\left[ \\begin{array}{ccc}14&11&17\\\\17&14&20\\\\20&17&23\\\\23&20&26\\\\26&23&29\\\\ \\end{array} \\right]\n"
      ],
      "metadata": {
        "id": "tDOtnrxor_Nn"
      }
    },
    {
      "cell_type": "code",
      "source": [
        "print(latex(0+(1|a|1)))\n",
        "print(latex(1|a|1))"
      ],
      "metadata": {
        "colab": {
          "base_uri": "https://localhost:8080/"
        },
        "id": "ZctgNTFwYyL3",
        "outputId": "a8e35ff7-4b69-4aab-d7f0-555b26feb2a7"
      },
      "execution_count": 22,
      "outputs": [
        {
          "output_type": "stream",
          "name": "stdout",
          "text": [
            "9\n",
            "9\n"
          ]
        }
      ]
    },
    {
      "cell_type": "code",
      "source": [
        "\n",
        "print(latex(a-a))\n"
      ],
      "metadata": {
        "colab": {
          "base_uri": "https://localhost:8080/"
        },
        "id": "Iqubty9TZKzF",
        "outputId": "00901ce0-7837-44f8-b4fd-a0e2f6819a16"
      },
      "execution_count": 23,
      "outputs": [
        {
          "output_type": "stream",
          "name": "stdout",
          "text": [
            "\\left[ \\begin{array}{ccc}0&0&0\\\\0&0&0\\\\0&0&0\\\\0&0&0\\\\0&0&0\\\\ \\end{array} \\right]\n"
          ]
        }
      ]
    },
    {
      "cell_type": "markdown",
      "source": [
        "\\left[ \\begin{array}{ccc}0&0&0\\\\0&0&0\\\\0&0&0\\\\0&0&0\\\\0&0&0\\\\ \\end{array} \\right]\n"
      ],
      "metadata": {
        "id": "uw6GqFYisEy1"
      }
    },
    {
      "cell_type": "code",
      "source": [
        "print(latex(2*(a+b)))\n",
        "print(latex((2*a)+(2*b)))"
      ],
      "metadata": {
        "colab": {
          "base_uri": "https://localhost:8080/"
        },
        "id": "JnqxkLX4ZX28",
        "outputId": "737635d2-6ee6-498b-ce90-158b4dde1c9e"
      },
      "execution_count": null,
      "outputs": [
        {
          "output_type": "stream",
          "name": "stdout",
          "text": [
            "\\left[ \\begin{array}{ccc}26&4&26\\\\30&8&30\\\\34&12&34\\\\38&16&38\\\\42&20&42\\\\ \\end{array} \\right]\n",
            "\\left[ \\begin{array}{ccc}26&4&26\\\\30&8&30\\\\34&12&34\\\\38&16&38\\\\42&20&42\\\\ \\end{array} \\right]\n"
          ]
        }
      ]
    },
    {
      "cell_type": "markdown",
      "source": [
        "\\left[ \\begin{array}{ccc}26&4&26\\\\30&8&30\\\\34&12&34\\\\38&16&38\\\\42&20&42\\\\ \\end{array} \\right]\n",
        "\\left[ \\begin{array}{ccc}26&4&26\\\\30&8&30\\\\34&12&34\\\\38&16&38\\\\42&20&42\\\\ \\end{array} \\right]\n",
        "\n",
        "\n",
        "\n",
        "```\n",
        "# Tiene formato de código\n",
        "```\n",
        "\n"
      ],
      "metadata": {
        "id": "eS6TT9YHw1BA"
      }
    },
    {
      "cell_type": "code",
      "source": [
        "print(latex((2+4)*(a)))\n",
        "print(latex((2*a)+(4*a)))"
      ],
      "metadata": {
        "colab": {
          "base_uri": "https://localhost:8080/"
        },
        "id": "0DZnQSN8aCR1",
        "outputId": "4593a47b-7c66-46ae-ec15-d26924a1ea62"
      },
      "execution_count": null,
      "outputs": [
        {
          "output_type": "stream",
          "name": "stdout",
          "text": [
            "\\left[ \\begin{array}{ccc}54&6&24\\\\60&12&30\\\\66&18&36\\\\72&24&42\\\\78&30&48\\\\ \\end{array} \\right]\n",
            "\\left[ \\begin{array}{ccc}54&6&24\\\\60&12&30\\\\66&18&36\\\\72&24&42\\\\78&30&48\\\\ \\end{array} \\right]\n"
          ]
        }
      ]
    },
    {
      "cell_type": "markdown",
      "source": [
        "\\left[ \\begin{array}{ccc}54&6&24\\\\60&12&30\\\\66&18&36\\\\72&24&42\\\\78&30&48\\\\ \\end{array} \\right]\n",
        "\\left[ \\begin{array}{ccc}54&6&24\\\\60&12&30\\\\66&18&36\\\\72&24&42\\\\78&30&48\\\\ \\end{array} \\right]"
      ],
      "metadata": {
        "id": "F3lV1ymkxBs8"
      }
    },
    {
      "cell_type": "code",
      "source": [
        "print(latex((3)*(5*a)))\n",
        "print(latex((3*5)*(a)))"
      ],
      "metadata": {
        "colab": {
          "base_uri": "https://localhost:8080/"
        },
        "id": "cOtMHP5oaWk2",
        "outputId": "12102bb5-fbdc-4968-a02d-45edd7579927"
      },
      "execution_count": 14,
      "outputs": [
        {
          "output_type": "stream",
          "name": "stdout",
          "text": [
            "\\left[ \\begin{array}{ccc}135&15&60\\\\150&30&75\\\\165&45&90\\\\180&60&105\\\\195&75&120\\\\ \\end{array} \\right]\n",
            "\\left[ \\begin{array}{ccc}135&15&60\\\\150&30&75\\\\165&45&90\\\\180&60&105\\\\195&75&120\\\\ \\end{array} \\right]\n"
          ]
        }
      ]
    },
    {
      "cell_type": "markdown",
      "source": [
        "\n",
        "\\left[ \\begin{array}{ccc}135&15&60\\\\150&30&75\\\\165&45&90\\\\180&60&105\\\\195&75&120\\\\ \\end{array} \\right]\n",
        "\\left[ \\begin{array}{ccc}135&15&60\\\\150&30&75\\\\165&45&90\\\\180&60&105\\\\195&75&120\\\\ \\end{array} \\right]"
      ],
      "metadata": {
        "id": "LkfBYWUAxaVm"
      }
    },
    {
      "cell_type": "code",
      "source": [
        "print(latex(1*a))"
      ],
      "metadata": {
        "colab": {
          "base_uri": "https://localhost:8080/"
        },
        "id": "_i77JdgUalCt",
        "outputId": "e5cc44dc-29d6-488b-c5b4-74fa62261372"
      },
      "execution_count": 13,
      "outputs": [
        {
          "output_type": "stream",
          "name": "stdout",
          "text": [
            "\\left[ \\begin{array}{ccc}9&1&4\\\\10&2&5\\\\11&3&6\\\\12&4&7\\\\13&5&8\\\\ \\end{array} \\right]\n"
          ]
        }
      ]
    },
    {
      "cell_type": "markdown",
      "source": [
        "\\left[ \\begin{array}{ccc}9&1&4\\\\10&2&5\\\\11&3&6\\\\12&4&7\\\\13&5&8\\\\ \\end{array} \\right]\n"
      ],
      "metadata": {
        "id": "xjF1MimiyL2A"
      }
    }
  ]
}