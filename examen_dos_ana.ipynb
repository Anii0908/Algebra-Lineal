{
  "nbformat": 4,
  "nbformat_minor": 0,
  "metadata": {
    "colab": {
      "provenance": []
    },
    "kernelspec": {
      "name": "python3",
      "display_name": "Python 3"
    },
    "language_info": {
      "name": "python"
    }
  },
  "cells": [
    {
      "cell_type": "code",
      "execution_count": 1,
      "metadata": {
        "colab": {
          "base_uri": "https://localhost:8080/"
        },
        "id": "e7JTYle0aySh",
        "outputId": "739a0859-e898-42e3-b470-1813df55adf9"
      },
      "outputs": [
        {
          "output_type": "stream",
          "name": "stdout",
          "text": [
            "Collecting nacal\n",
            "  Downloading nacal-0.2.1-py3-none-any.whl (40 kB)\n",
            "\u001b[?25l     \u001b[90m━━━━━━━━━━━━━━━━━━━━━━━━━━━━━━━━━━━━━━━━\u001b[0m \u001b[32m0.0/40.0 kB\u001b[0m \u001b[31m?\u001b[0m eta \u001b[36m-:--:--\u001b[0m\r\u001b[2K     \u001b[90m━━━━━━━━━━━━━━━━━━━━━━━━━━━━━━━━━━━━━━━━\u001b[0m \u001b[32m40.0/40.0 kB\u001b[0m \u001b[31m998.2 kB/s\u001b[0m eta \u001b[36m0:00:00\u001b[0m\n",
            "\u001b[?25hRequirement already satisfied: sympy>=1.1.0 in /usr/local/lib/python3.10/dist-packages (from nacal) (1.12.1)\n",
            "Requirement already satisfied: mpmath<1.4.0,>=1.1.0 in /usr/local/lib/python3.10/dist-packages (from sympy>=1.1.0->nacal) (1.3.0)\n",
            "Installing collected packages: nacal\n",
            "Successfully installed nacal-0.2.1\n"
          ]
        }
      ],
      "source": [
        "!pip install --target=$nb_path nacal\n",
        "from nacal import *\n",
        "from IPython.display import display, Math"
      ]
    },
    {
      "cell_type": "markdown",
      "source": [
        "##1 matriz"
      ],
      "metadata": {
        "id": "ixGnOh6sbiZ5"
      }
    },
    {
      "cell_type": "code",
      "source": [
        "a=Vector((3,1,2,4)); b=Vector((-2,-1,1,-4)); c= Vector((2,-1,2,1)); d= Vector((1,-3,4,2))\n",
        "Ma= Matrix([a,b,c,d])\n",
        "Ma"
      ],
      "metadata": {
        "colab": {
          "base_uri": "https://localhost:8080/",
          "height": 46
        },
        "id": "2JgME0Tvbh9x",
        "outputId": "71904d1b-d00c-4442-aed0-81dedb114888"
      },
      "execution_count": 2,
      "outputs": [
        {
          "output_type": "execute_result",
          "data": {
            "text/plain": [
              "Matrix([Vector([3, 1, 2, 4]), Vector([-2, -1, 1, -4]), Vector([2, -1, 2, 1]), Vector([1, -3, 4, 2])])"
            ],
            "text/html": [
              "<p style=\"text-align:center;\">$\\left[ \\begin{array}{cccc}3&-2&2&1\\\\1&-1&-1&-3\\\\2&1&2&4\\\\4&-4&1&2\\\\ \\end{array} \\right]$</p>"
            ],
            "image/png": "$\\left[ \\begin{array}{cccc}3&-2&2&1\\\\1&-1&-1&-3\\\\2&1&2&4\\\\4&-4&1&2\\\\ \\end{array} \\right]$",
            "text/latex": "$\\left[ \\begin{array}{cccc}3&-2&2&1\\\\1&-1&-1&-3\\\\2&1&2&4\\\\4&-4&1&2\\\\ \\end{array} \\right]$"
          },
          "metadata": {},
          "execution_count": 2
        }
      ]
    },
    {
      "cell_type": "markdown",
      "source": [
        "$\\left[ \\begin{array}{cccc}3&-2&2&1\\\\1&-1&-1&-3\\\\2&1&2&4\\\\4&-4&1&2\\\\ \\end{array} \\right]$"
      ],
      "metadata": {
        "id": "fgIC9vApcjma"
      }
    },
    {
      "cell_type": "markdown",
      "source": [
        "Eliminacion paso a paso\n"
      ],
      "metadata": {
        "id": "XcDdk-lriSVy"
      }
    },
    {
      "cell_type": "code",
      "source": [
        "Ma&T((3,2))\n",
        "Ma&T((2,1,2))\n",
        "Ma&T((3,3))\n",
        "Ma&T((-2,1,3))\n",
        "Ma&T((3,4))\n",
        "Ma&T((-1,1,4))"
      ],
      "metadata": {
        "colab": {
          "base_uri": "https://localhost:8080/",
          "height": 46
        },
        "id": "Ym1jobT8tRXz",
        "outputId": "00121860-4c14-4c76-b510-b54350899316"
      },
      "execution_count": 3,
      "outputs": [
        {
          "output_type": "execute_result",
          "data": {
            "text/plain": [
              "Matrix([Vector([3, 1, 2, 4]), Vector([0, -1, 7, -4]), Vector([0, -5, 2, -5]), Vector([0, -10, 10, 2])])"
            ],
            "text/html": [
              "<p style=\"text-align:center;\">$\\left[ \\begin{array}{cccc}3&0&0&0\\\\1&-1&-5&-10\\\\2&7&2&10\\\\4&-4&-5&2\\\\ \\end{array} \\right]$</p>"
            ],
            "image/png": "$\\left[ \\begin{array}{cccc}3&0&0&0\\\\1&-1&-5&-10\\\\2&7&2&10\\\\4&-4&-5&2\\\\ \\end{array} \\right]$",
            "text/latex": "$\\left[ \\begin{array}{cccc}3&0&0&0\\\\1&-1&-5&-10\\\\2&7&2&10\\\\4&-4&-5&2\\\\ \\end{array} \\right]$"
          },
          "metadata": {},
          "execution_count": 3
        }
      ]
    },
    {
      "cell_type": "markdown",
      "source": [
        "$\\left[ \\begin{array}{cccc}3&0&0&0\\\\1&-1&-5&-10\\\\2&7&2&10\\\\4&-4&-5&2\\\\ \\end{array} \\right]$"
      ],
      "metadata": {
        "id": "EfzNlE2auv20"
      }
    },
    {
      "cell_type": "code",
      "source": [
        "Ma&T((-5,2,3))\n",
        "Ma&T((-10,2,4))"
      ],
      "metadata": {
        "colab": {
          "base_uri": "https://localhost:8080/",
          "height": 46
        },
        "id": "JrjnYT6lvBJV",
        "outputId": "6314e947-c157-4605-edc0-5f5e0ef401f3"
      },
      "execution_count": 4,
      "outputs": [
        {
          "output_type": "execute_result",
          "data": {
            "text/plain": [
              "Matrix([Vector([3, 1, 2, 4]), Vector([0, -1, 7, -4]), Vector([0, 0, -33, 15]), Vector([0, 0, -60, 42])])"
            ],
            "text/html": [
              "<p style=\"text-align:center;\">$\\left[ \\begin{array}{cccc}3&0&0&0\\\\1&-1&0&0\\\\2&7&-33&-60\\\\4&-4&15&42\\\\ \\end{array} \\right]$</p>"
            ],
            "image/png": "$\\left[ \\begin{array}{cccc}3&0&0&0\\\\1&-1&0&0\\\\2&7&-33&-60\\\\4&-4&15&42\\\\ \\end{array} \\right]$",
            "text/latex": "$\\left[ \\begin{array}{cccc}3&0&0&0\\\\1&-1&0&0\\\\2&7&-33&-60\\\\4&-4&15&42\\\\ \\end{array} \\right]$"
          },
          "metadata": {},
          "execution_count": 4
        }
      ]
    },
    {
      "cell_type": "markdown",
      "source": [
        "$\\left[ \\begin{array}{cccc}3&0&0&0\\\\1&-1&0&0\\\\2&7&-33&-60\\\\4&-4&15&42\\\\ \\end{array} \\right]$"
      ],
      "metadata": {
        "id": "xjwgLoQSvChV"
      }
    },
    {
      "cell_type": "code",
      "source": [
        "Ma&T((11,4))\n",
        "Ma&T((-20,3,4))"
      ],
      "metadata": {
        "colab": {
          "base_uri": "https://localhost:8080/",
          "height": 46
        },
        "id": "h0e88mBLvQ3a",
        "outputId": "b092fd73-0f34-4ee2-b4ec-1eb9818842ea"
      },
      "execution_count": 5,
      "outputs": [
        {
          "output_type": "execute_result",
          "data": {
            "text/plain": [
              "Matrix([Vector([3, 1, 2, 4]), Vector([0, -1, 7, -4]), Vector([0, 0, -33, 15]), Vector([0, 0, 0, 162])])"
            ],
            "text/html": [
              "<p style=\"text-align:center;\">$\\left[ \\begin{array}{cccc}3&0&0&0\\\\1&-1&0&0\\\\2&7&-33&0\\\\4&-4&15&162\\\\ \\end{array} \\right]$</p>"
            ],
            "image/png": "$\\left[ \\begin{array}{cccc}3&0&0&0\\\\1&-1&0&0\\\\2&7&-33&0\\\\4&-4&15&162\\\\ \\end{array} \\right]$",
            "text/latex": "$\\left[ \\begin{array}{cccc}3&0&0&0\\\\1&-1&0&0\\\\2&7&-33&0\\\\4&-4&15&162\\\\ \\end{array} \\right]$"
          },
          "metadata": {},
          "execution_count": 5
        }
      ]
    },
    {
      "cell_type": "markdown",
      "source": [
        "$\\left[ \\begin{array}{cccc}3&0&0&0\\\\1&-1&0&0\\\\2&7&-33&0\\\\4&-4&15&162\\\\ \\end{array} \\right]$"
      ],
      "metadata": {
        "id": "pCYhLRT8uPU6"
      }
    },
    {
      "cell_type": "markdown",
      "source": [
        "##2 Escriba las siguientes matrices elementales de orden 4"
      ],
      "metadata": {
        "id": "i3sGga3mkaay"
      }
    },
    {
      "cell_type": "markdown",
      "source": [
        "(a) I τ\n",
        "[(−7)1+3]\n"
      ],
      "metadata": {
        "id": "xILwyl92lAty"
      }
    },
    {
      "cell_type": "code",
      "source": [
        "I(4) & T( (-7,1,3) )"
      ],
      "metadata": {
        "colab": {
          "base_uri": "https://localhost:8080/",
          "height": 46
        },
        "id": "F_XUqLmIlRva",
        "outputId": "39bd95a8-aa40-4d9e-9555-3001c423d801"
      },
      "execution_count": 6,
      "outputs": [
        {
          "output_type": "execute_result",
          "data": {
            "text/plain": [
              "Matrix([Vector([1, 0, 0, 0]), Vector([0, 1, 0, 0]), Vector([-7, 0, 1, 0]), Vector([0, 0, 0, 1])])"
            ],
            "text/html": [
              "<p style=\"text-align:center;\">$\\left[ \\begin{array}{cccc}1&0&-7&0\\\\0&1&0&0\\\\0&0&1&0\\\\0&0&0&1\\\\ \\end{array} \\right]$</p>"
            ],
            "image/png": "$\\left[ \\begin{array}{cccc}1&0&-7&0\\\\0&1&0&0\\\\0&0&1&0\\\\0&0&0&1\\\\ \\end{array} \\right]$",
            "text/latex": "$\\left[ \\begin{array}{cccc}1&0&-7&0\\\\0&1&0&0\\\\0&0&1&0\\\\0&0&0&1\\\\ \\end{array} \\right]$"
          },
          "metadata": {},
          "execution_count": 6
        }
      ]
    },
    {
      "cell_type": "markdown",
      "source": [
        "$\\left[ \\begin{array}{cccc}1&0&-7&0\\\\0&1&0&0\\\\0&0&1&0\\\\0&0&0&1\\\\ \\end{array} \\right]$"
      ],
      "metadata": {
        "id": "G7NsEGTllapj"
      }
    },
    {
      "cell_type": "markdown",
      "source": [
        "(b) I τ\n",
        "[(1)1+4]"
      ],
      "metadata": {
        "id": "EPik-bQok9h6"
      }
    },
    {
      "cell_type": "code",
      "source": [
        "I(4) & T( (1,1,4) )"
      ],
      "metadata": {
        "colab": {
          "base_uri": "https://localhost:8080/",
          "height": 46
        },
        "id": "px3A6lsQlT5i",
        "outputId": "638020f4-15cd-4b4d-a430-7a76825b4f3c"
      },
      "execution_count": 7,
      "outputs": [
        {
          "output_type": "execute_result",
          "data": {
            "text/plain": [
              "Matrix([Vector([1, 0, 0, 0]), Vector([0, 1, 0, 0]), Vector([0, 0, 1, 0]), Vector([1, 0, 0, 1])])"
            ],
            "text/html": [
              "<p style=\"text-align:center;\">$\\left[ \\begin{array}{cccc}1&0&0&1\\\\0&1&0&0\\\\0&0&1&0\\\\0&0&0&1\\\\ \\end{array} \\right]$</p>"
            ],
            "image/png": "$\\left[ \\begin{array}{cccc}1&0&0&1\\\\0&1&0&0\\\\0&0&1&0\\\\0&0&0&1\\\\ \\end{array} \\right]$",
            "text/latex": "$\\left[ \\begin{array}{cccc}1&0&0&1\\\\0&1&0&0\\\\0&0&1&0\\\\0&0&0&1\\\\ \\end{array} \\right]$"
          },
          "metadata": {},
          "execution_count": 7
        }
      ]
    },
    {
      "cell_type": "markdown",
      "source": [
        "$\\left[ \\begin{array}{cccc}1&0&0&1\\\\0&1&0&0\\\\0&0&1&0\\\\0&0&0&1\\\\ \\end{array} \\right]$"
      ],
      "metadata": {
        "id": "hJ08J0kPlbgC"
      }
    },
    {
      "cell_type": "markdown",
      "source": [
        "(c) I τ\n",
        "[(3)2+1]\n"
      ],
      "metadata": {
        "id": "Yl568Js4lHOE"
      }
    },
    {
      "cell_type": "code",
      "source": [
        "I(4) & T( (3,2,1) )"
      ],
      "metadata": {
        "colab": {
          "base_uri": "https://localhost:8080/",
          "height": 46
        },
        "id": "uiml-CfglWci",
        "outputId": "45776fde-065d-4b64-d5bd-06224222c32d"
      },
      "execution_count": 8,
      "outputs": [
        {
          "output_type": "execute_result",
          "data": {
            "text/plain": [
              "Matrix([Vector([1, 3, 0, 0]), Vector([0, 1, 0, 0]), Vector([0, 0, 1, 0]), Vector([0, 0, 0, 1])])"
            ],
            "text/html": [
              "<p style=\"text-align:center;\">$\\left[ \\begin{array}{cccc}1&0&0&0\\\\3&1&0&0\\\\0&0&1&0\\\\0&0&0&1\\\\ \\end{array} \\right]$</p>"
            ],
            "image/png": "$\\left[ \\begin{array}{cccc}1&0&0&0\\\\3&1&0&0\\\\0&0&1&0\\\\0&0&0&1\\\\ \\end{array} \\right]$",
            "text/latex": "$\\left[ \\begin{array}{cccc}1&0&0&0\\\\3&1&0&0\\\\0&0&1&0\\\\0&0&0&1\\\\ \\end{array} \\right]$"
          },
          "metadata": {},
          "execution_count": 8
        }
      ]
    },
    {
      "cell_type": "markdown",
      "source": [
        "$\\left[ \\begin{array}{cccc}1&0&0&0\\\\3&1&0&0\\\\0&0&1&0\\\\0&0&0&1\\\\ \\end{array} \\right]$"
      ],
      "metadata": {
        "id": "SgeTO9noldxi"
      }
    },
    {
      "cell_type": "markdown",
      "source": [
        "(d) I τ\n",
        "[(−10)3]"
      ],
      "metadata": {
        "id": "8On_1Jj9lMjC"
      }
    },
    {
      "cell_type": "code",
      "source": [
        "I(4) & T( (-10,3) )"
      ],
      "metadata": {
        "colab": {
          "base_uri": "https://localhost:8080/",
          "height": 46
        },
        "id": "uQWATzQ_lYN6",
        "outputId": "30c10834-721a-40ee-96e0-a3a477ce43d8"
      },
      "execution_count": 9,
      "outputs": [
        {
          "output_type": "execute_result",
          "data": {
            "text/plain": [
              "Matrix([Vector([1, 0, 0, 0]), Vector([0, 1, 0, 0]), Vector([0, 0, -10, 0]), Vector([0, 0, 0, 1])])"
            ],
            "text/html": [
              "<p style=\"text-align:center;\">$\\left[ \\begin{array}{cccc}1&0&0&0\\\\0&1&0&0\\\\0&0&-10&0\\\\0&0&0&1\\\\ \\end{array} \\right]$</p>"
            ],
            "image/png": "$\\left[ \\begin{array}{cccc}1&0&0&0\\\\0&1&0&0\\\\0&0&-10&0\\\\0&0&0&1\\\\ \\end{array} \\right]$",
            "text/latex": "$\\left[ \\begin{array}{cccc}1&0&0&0\\\\0&1&0&0\\\\0&0&-10&0\\\\0&0&0&1\\\\ \\end{array} \\right]$"
          },
          "metadata": {},
          "execution_count": 9
        }
      ]
    },
    {
      "cell_type": "markdown",
      "source": [
        "$\\left[ \\begin{array}{cccc}1&0&0&0\\\\0&1&0&0\\\\0&0&-10&0\\\\0&0&0&1\\\\ \\end{array} \\right]$"
      ],
      "metadata": {
        "id": "f4ga2m_sle96"
      }
    },
    {
      "cell_type": "markdown",
      "source": [
        "##3. Sea la matriz\n",
        "A = $\\left[ \\begin{array}{cccc}1&1&1&1\\\\0&1&1&1\\\\1&2&3&4\\\\4&-4&1&2\\\\ \\end{array} \\right]$\n",
        ", exprese las siguientes transformaciones elementales de\n",
        "\n",
        "A como productos de A por matrices elementales y escriba el resultado:\n",
        "\n",
        "(a) Multiplicar la primera columna por 3. (b) Restar la primera columna de la segunda."
      ],
      "metadata": {
        "id": "VkgYS_Tgkyzj"
      }
    },
    {
      "cell_type": "code",
      "source": [
        "auno= Vector((1,0,1,4)); ados=Vector((1,1,2,-4)); atres= Vector((1,1,3,1)); acuatro= Vector((1,1,4,2))\n",
        "uno= Matrix([auno,ados,atres,acuatro])\n",
        "uno"
      ],
      "metadata": {
        "colab": {
          "base_uri": "https://localhost:8080/",
          "height": 46
        },
        "id": "X2-Rs9ImmDWa",
        "outputId": "5ceecfe2-3123-4d70-8303-d54db73c1381"
      },
      "execution_count": 10,
      "outputs": [
        {
          "output_type": "execute_result",
          "data": {
            "text/plain": [
              "Matrix([Vector([1, 0, 1, 4]), Vector([1, 1, 2, -4]), Vector([1, 1, 3, 1]), Vector([1, 1, 4, 2])])"
            ],
            "text/html": [
              "<p style=\"text-align:center;\">$\\left[ \\begin{array}{cccc}1&1&1&1\\\\0&1&1&1\\\\1&2&3&4\\\\4&-4&1&2\\\\ \\end{array} \\right]$</p>"
            ],
            "image/png": "$\\left[ \\begin{array}{cccc}1&1&1&1\\\\0&1&1&1\\\\1&2&3&4\\\\4&-4&1&2\\\\ \\end{array} \\right]$",
            "text/latex": "$\\left[ \\begin{array}{cccc}1&1&1&1\\\\0&1&1&1\\\\1&2&3&4\\\\4&-4&1&2\\\\ \\end{array} \\right]$"
          },
          "metadata": {},
          "execution_count": 10
        }
      ]
    },
    {
      "cell_type": "markdown",
      "source": [
        "$\\left[ \\begin{array}{cccc}1&1&1&1\\\\0&1&1&1\\\\1&2&3&4\\\\4&-4&1&2\\\\ \\end{array} \\right]$"
      ],
      "metadata": {
        "id": "QwrAobXxmPkT"
      }
    },
    {
      "cell_type": "code",
      "source": [
        "uno=uno * ( I(uno.n) &  T((3,1)) )\n",
        "uno"
      ],
      "metadata": {
        "colab": {
          "base_uri": "https://localhost:8080/",
          "height": 46
        },
        "id": "ShRac49xqVOC",
        "outputId": "3cd2de72-6e47-444f-9091-eaf36dcc7c20"
      },
      "execution_count": 11,
      "outputs": [
        {
          "output_type": "execute_result",
          "data": {
            "text/plain": [
              "Matrix([Vector([3, 0, 3, 12]), Vector([1, 1, 2, -4]), Vector([1, 1, 3, 1]), Vector([1, 1, 4, 2])])"
            ],
            "text/html": [
              "<p style=\"text-align:center;\">$\\left[ \\begin{array}{cccc}3&1&1&1\\\\0&1&1&1\\\\3&2&3&4\\\\12&-4&1&2\\\\ \\end{array} \\right]$</p>"
            ],
            "image/png": "$\\left[ \\begin{array}{cccc}3&1&1&1\\\\0&1&1&1\\\\3&2&3&4\\\\12&-4&1&2\\\\ \\end{array} \\right]$",
            "text/latex": "$\\left[ \\begin{array}{cccc}3&1&1&1\\\\0&1&1&1\\\\3&2&3&4\\\\12&-4&1&2\\\\ \\end{array} \\right]$"
          },
          "metadata": {},
          "execution_count": 11
        }
      ]
    },
    {
      "cell_type": "markdown",
      "source": [
        "$\\left[ \\begin{array}{cccc}3&1&1&1\\\\0&1&1&1\\\\3&2&3&4\\\\12&-4&1&2\\\\ \\end{array} \\right]$"
      ],
      "metadata": {
        "id": "XbMSsb7HqVoK"
      }
    },
    {
      "cell_type": "code",
      "source": [
        "uno=uno * ( I(uno.n) &  T((-1,1,2)) )\n",
        "uno"
      ],
      "metadata": {
        "colab": {
          "base_uri": "https://localhost:8080/",
          "height": 46
        },
        "id": "0L20DPdNqoqi",
        "outputId": "40b31a1d-82fe-4c78-a87c-1df237bd2eda"
      },
      "execution_count": 12,
      "outputs": [
        {
          "output_type": "execute_result",
          "data": {
            "text/plain": [
              "Matrix([Vector([3, 0, 3, 12]), Vector([-2, 1, -1, -16]), Vector([1, 1, 3, 1]), Vector([1, 1, 4, 2])])"
            ],
            "text/html": [
              "<p style=\"text-align:center;\">$\\left[ \\begin{array}{cccc}3&-2&1&1\\\\0&1&1&1\\\\3&-1&3&4\\\\12&-16&1&2\\\\ \\end{array} \\right]$</p>"
            ],
            "image/png": "$\\left[ \\begin{array}{cccc}3&-2&1&1\\\\0&1&1&1\\\\3&-1&3&4\\\\12&-16&1&2\\\\ \\end{array} \\right]$",
            "text/latex": "$\\left[ \\begin{array}{cccc}3&-2&1&1\\\\0&1&1&1\\\\3&-1&3&4\\\\12&-16&1&2\\\\ \\end{array} \\right]$"
          },
          "metadata": {},
          "execution_count": 12
        }
      ]
    },
    {
      "cell_type": "markdown",
      "source": [
        "$\\left[ \\begin{array}{cccc}3&-2&1&1\\\\0&1&1&1\\\\3&-1&3&4\\\\12&-16&1&2\\\\ \\end{array} \\right]$"
      ],
      "metadata": {
        "id": "nn6D8oklqs3S"
      }
    },
    {
      "cell_type": "markdown",
      "source": [
        "## 4.\n",
        "Realiza el algoritmo de eliminación de Gauss-Jordan para la matriz del ejercicio 1, es decir continua las modificaciones de la matriz mediante operaciones elementales.\n",
        "Por cada paso del algoritmo escribe la celda de código correspondiente."
      ],
      "metadata": {
        "id": "1zy7UJKMq04i"
      }
    },
    {
      "cell_type": "markdown",
      "source": [
        "$\\left[ \\begin{array}{cccc}3&0&0&0\\\\1&-1&0&0\\\\2&7&-33&0\\\\4&-4&15&162\\\\ \\end{array} \\right]$"
      ],
      "metadata": {
        "id": "WMkcum1RvWuD"
      }
    },
    {
      "cell_type": "code",
      "source": [
        "Ma&T((fracc(1,3),1))"
      ],
      "metadata": {
        "colab": {
          "base_uri": "https://localhost:8080/",
          "height": 46
        },
        "id": "TCoLjUw-vYQ9",
        "outputId": "e537757e-5455-41d1-af60-556f22c3c1fe"
      },
      "execution_count": 13,
      "outputs": [
        {
          "output_type": "execute_result",
          "data": {
            "text/plain": [
              "Matrix([Vector([1, 1/3, 2/3, 4/3]), Vector([0, -1, 7, -4]), Vector([0, 0, -33, 15]), Vector([0, 0, 0, 162])])"
            ],
            "text/html": [
              "<p style=\"text-align:center;\">$\\left[ \\begin{array}{cccc}1&0&0&0\\\\\\frac{1}{3}&-1&0&0\\\\\\frac{2}{3}&7&-33&0\\\\\\frac{4}{3}&-4&15&162\\\\ \\end{array} \\right]$</p>"
            ],
            "image/png": "$\\left[ \\begin{array}{cccc}1&0&0&0\\\\\\frac{1}{3}&-1&0&0\\\\\\frac{2}{3}&7&-33&0\\\\\\frac{4}{3}&-4&15&162\\\\ \\end{array} \\right]$",
            "text/latex": "$\\left[ \\begin{array}{cccc}1&0&0&0\\\\\\frac{1}{3}&-1&0&0\\\\\\frac{2}{3}&7&-33&0\\\\\\frac{4}{3}&-4&15&162\\\\ \\end{array} \\right]$"
          },
          "metadata": {},
          "execution_count": 13
        }
      ]
    },
    {
      "cell_type": "markdown",
      "source": [
        "$\\left[ \\begin{array}{cccc}1&0&0&0\\\\\\frac{1}{3}&-1&0&0\\\\\\frac{2}{3}&7&-33&0\\\\\\frac{4}{3}&-4&15&162\\\\ \\end{array} \\right]$"
      ],
      "metadata": {
        "id": "Pe0bffE_vjaa"
      }
    },
    {
      "cell_type": "code",
      "source": [
        "Ma&T((-1,2))"
      ],
      "metadata": {
        "colab": {
          "base_uri": "https://localhost:8080/",
          "height": 46
        },
        "id": "2BBP16zCvk_U",
        "outputId": "88cb0cb3-ea39-4bb5-eab5-f5e72eace689"
      },
      "execution_count": 14,
      "outputs": [
        {
          "output_type": "execute_result",
          "data": {
            "text/plain": [
              "Matrix([Vector([1, 1/3, 2/3, 4/3]), Vector([0, 1, -7, 4]), Vector([0, 0, -33, 15]), Vector([0, 0, 0, 162])])"
            ],
            "text/html": [
              "<p style=\"text-align:center;\">$\\left[ \\begin{array}{cccc}1&0&0&0\\\\\\frac{1}{3}&1&0&0\\\\\\frac{2}{3}&-7&-33&0\\\\\\frac{4}{3}&4&15&162\\\\ \\end{array} \\right]$</p>"
            ],
            "image/png": "$\\left[ \\begin{array}{cccc}1&0&0&0\\\\\\frac{1}{3}&1&0&0\\\\\\frac{2}{3}&-7&-33&0\\\\\\frac{4}{3}&4&15&162\\\\ \\end{array} \\right]$",
            "text/latex": "$\\left[ \\begin{array}{cccc}1&0&0&0\\\\\\frac{1}{3}&1&0&0\\\\\\frac{2}{3}&-7&-33&0\\\\\\frac{4}{3}&4&15&162\\\\ \\end{array} \\right]$"
          },
          "metadata": {},
          "execution_count": 14
        }
      ]
    },
    {
      "cell_type": "markdown",
      "source": [
        "$\\left[ \\begin{array}{cccc}1&0&0&0\\\\\\frac{1}{3}&1&0&0\\\\\\frac{2}{3}&-7&-33&0\\\\\\frac{4}{3}&4&15&162\\\\ \\end{array} \\right]$"
      ],
      "metadata": {
        "id": "SC2KujdavrC6"
      }
    },
    {
      "cell_type": "code",
      "source": [
        "Ma&T((-fracc(1,3),2,1))"
      ],
      "metadata": {
        "colab": {
          "base_uri": "https://localhost:8080/",
          "height": 46
        },
        "id": "2byhyoN1vtJT",
        "outputId": "e535e09b-375d-42d3-d5ca-353543b10b48"
      },
      "execution_count": 15,
      "outputs": [
        {
          "output_type": "execute_result",
          "data": {
            "text/plain": [
              "Matrix([Vector([1, 0, 3, 0]), Vector([0, 1, -7, 4]), Vector([0, 0, -33, 15]), Vector([0, 0, 0, 162])])"
            ],
            "text/html": [
              "<p style=\"text-align:center;\">$\\left[ \\begin{array}{cccc}1&0&0&0\\\\0&1&0&0\\\\3&-7&-33&0\\\\0&4&15&162\\\\ \\end{array} \\right]$</p>"
            ],
            "image/png": "$\\left[ \\begin{array}{cccc}1&0&0&0\\\\0&1&0&0\\\\3&-7&-33&0\\\\0&4&15&162\\\\ \\end{array} \\right]$",
            "text/latex": "$\\left[ \\begin{array}{cccc}1&0&0&0\\\\0&1&0&0\\\\3&-7&-33&0\\\\0&4&15&162\\\\ \\end{array} \\right]$"
          },
          "metadata": {},
          "execution_count": 15
        }
      ]
    },
    {
      "cell_type": "markdown",
      "source": [
        "$\\left[ \\begin{array}{cccc}1&0&0&0\\\\0&1&0&0\\\\3&-7&-33&0\\\\0&4&15&162\\\\ \\end{array} \\right]$"
      ],
      "metadata": {
        "id": "-xTeqMR1vz5z"
      }
    },
    {
      "cell_type": "code",
      "source": [
        "Ma&T((-fracc(1,33),3))"
      ],
      "metadata": {
        "colab": {
          "base_uri": "https://localhost:8080/",
          "height": 46
        },
        "id": "7jfYxsGrv1oD",
        "outputId": "f23466f8-db06-4981-d6ac-933fd5cfc926"
      },
      "execution_count": 16,
      "outputs": [
        {
          "output_type": "execute_result",
          "data": {
            "text/plain": [
              "Matrix([Vector([1, 0, 3, 0]), Vector([0, 1, -7, 4]), Vector([0, 0, 1, -5/11]), Vector([0, 0, 0, 162])])"
            ],
            "text/html": [
              "<p style=\"text-align:center;\">$\\left[ \\begin{array}{cccc}1&0&0&0\\\\0&1&0&0\\\\3&-7&1&0\\\\0&4&- \\frac{5}{11}&162\\\\ \\end{array} \\right]$</p>"
            ],
            "image/png": "$\\left[ \\begin{array}{cccc}1&0&0&0\\\\0&1&0&0\\\\3&-7&1&0\\\\0&4&- \\frac{5}{11}&162\\\\ \\end{array} \\right]$",
            "text/latex": "$\\left[ \\begin{array}{cccc}1&0&0&0\\\\0&1&0&0\\\\3&-7&1&0\\\\0&4&- \\frac{5}{11}&162\\\\ \\end{array} \\right]$"
          },
          "metadata": {},
          "execution_count": 16
        }
      ]
    },
    {
      "cell_type": "markdown",
      "source": [
        "$\\left[ \\begin{array}{cccc}1&0&0&0\\\\0&1&0&0\\\\3&-7&1&0\\\\0&4&- \\frac{5}{11}&162\\\\ \\end{array} \\right]$"
      ],
      "metadata": {
        "id": "ad9JtcS3v6EL"
      }
    },
    {
      "cell_type": "code",
      "source": [
        "Ma&T((7,3,2))"
      ],
      "metadata": {
        "colab": {
          "base_uri": "https://localhost:8080/",
          "height": 46
        },
        "id": "QoIY9TnFv8Vj",
        "outputId": "fb5b9268-cfc0-489f-c141-eb29ff291be2"
      },
      "execution_count": 17,
      "outputs": [
        {
          "output_type": "execute_result",
          "data": {
            "text/plain": [
              "Matrix([Vector([1, 0, 3, 0]), Vector([0, 1, 0, 9/11]), Vector([0, 0, 1, -5/11]), Vector([0, 0, 0, 162])])"
            ],
            "text/html": [
              "<p style=\"text-align:center;\">$\\left[ \\begin{array}{cccc}1&0&0&0\\\\0&1&0&0\\\\3&0&1&0\\\\0&\\frac{9}{11}&- \\frac{5}{11}&162\\\\ \\end{array} \\right]$</p>"
            ],
            "image/png": "$\\left[ \\begin{array}{cccc}1&0&0&0\\\\0&1&0&0\\\\3&0&1&0\\\\0&\\frac{9}{11}&- \\frac{5}{11}&162\\\\ \\end{array} \\right]$",
            "text/latex": "$\\left[ \\begin{array}{cccc}1&0&0&0\\\\0&1&0&0\\\\3&0&1&0\\\\0&\\frac{9}{11}&- \\frac{5}{11}&162\\\\ \\end{array} \\right]$"
          },
          "metadata": {},
          "execution_count": 17
        }
      ]
    },
    {
      "cell_type": "markdown",
      "source": [
        "$\\left[ \\begin{array}{cccc}1&0&0&0\\\\0&1&0&0\\\\3&0&1&0\\\\0&\\frac{9}{11}&- \\frac{5}{11}&162\\\\ \\end{array} \\right]$"
      ],
      "metadata": {
        "id": "6cKawUnxwA27"
      }
    },
    {
      "cell_type": "code",
      "source": [
        "Ma&T((-3,3,1))"
      ],
      "metadata": {
        "colab": {
          "base_uri": "https://localhost:8080/",
          "height": 46
        },
        "id": "pCrj03bjwCg0",
        "outputId": "6becea75-2748-47fe-c887-239a261bad67"
      },
      "execution_count": 18,
      "outputs": [
        {
          "output_type": "execute_result",
          "data": {
            "text/plain": [
              "Matrix([Vector([1, 0, 0, 15/11]), Vector([0, 1, 0, 9/11]), Vector([0, 0, 1, -5/11]), Vector([0, 0, 0, 162])])"
            ],
            "text/html": [
              "<p style=\"text-align:center;\">$\\left[ \\begin{array}{cccc}1&0&0&0\\\\0&1&0&0\\\\0&0&1&0\\\\\\frac{15}{11}&\\frac{9}{11}&- \\frac{5}{11}&162\\\\ \\end{array} \\right]$</p>"
            ],
            "image/png": "$\\left[ \\begin{array}{cccc}1&0&0&0\\\\0&1&0&0\\\\0&0&1&0\\\\\\frac{15}{11}&\\frac{9}{11}&- \\frac{5}{11}&162\\\\ \\end{array} \\right]$",
            "text/latex": "$\\left[ \\begin{array}{cccc}1&0&0&0\\\\0&1&0&0\\\\0&0&1&0\\\\\\frac{15}{11}&\\frac{9}{11}&- \\frac{5}{11}&162\\\\ \\end{array} \\right]$"
          },
          "metadata": {},
          "execution_count": 18
        }
      ]
    },
    {
      "cell_type": "markdown",
      "source": [
        "$\\left[ \\begin{array}{cccc}1&0&0&0\\\\0&1&0&0\\\\0&0&1&0\\\\\\frac{15}{11}&\\frac{9}{11}&- \\frac{5}{11}&162\\\\ \\end{array} \\right]$"
      ],
      "metadata": {
        "id": "8m9JZWznwGB0"
      }
    },
    {
      "cell_type": "code",
      "source": [
        "Ma&T((fracc(1,162),4))"
      ],
      "metadata": {
        "colab": {
          "base_uri": "https://localhost:8080/",
          "height": 46
        },
        "id": "_aIyXeUfwJkM",
        "outputId": "37687151-b02c-4268-a11f-f99c92bc2a91"
      },
      "execution_count": 19,
      "outputs": [
        {
          "output_type": "execute_result",
          "data": {
            "text/plain": [
              "Matrix([Vector([1, 0, 0, 15/11]), Vector([0, 1, 0, 9/11]), Vector([0, 0, 1, -5/11]), Vector([0, 0, 0, 1])])"
            ],
            "text/html": [
              "<p style=\"text-align:center;\">$\\left[ \\begin{array}{cccc}1&0&0&0\\\\0&1&0&0\\\\0&0&1&0\\\\\\frac{15}{11}&\\frac{9}{11}&- \\frac{5}{11}&1\\\\ \\end{array} \\right]$</p>"
            ],
            "image/png": "$\\left[ \\begin{array}{cccc}1&0&0&0\\\\0&1&0&0\\\\0&0&1&0\\\\\\frac{15}{11}&\\frac{9}{11}&- \\frac{5}{11}&1\\\\ \\end{array} \\right]$",
            "text/latex": "$\\left[ \\begin{array}{cccc}1&0&0&0\\\\0&1&0&0\\\\0&0&1&0\\\\\\frac{15}{11}&\\frac{9}{11}&- \\frac{5}{11}&1\\\\ \\end{array} \\right]$"
          },
          "metadata": {},
          "execution_count": 19
        }
      ]
    },
    {
      "cell_type": "markdown",
      "source": [
        "$\\left[ \\begin{array}{cccc}1&0&0&0\\\\0&1&0&0\\\\0&0&1&0\\\\\\frac{15}{11}&\\frac{9}{11}&- \\frac{5}{11}&1\\\\ \\end{array} \\right]$"
      ],
      "metadata": {
        "id": "1JHSGr_UwCM6"
      }
    },
    {
      "cell_type": "code",
      "source": [
        "Ma&T((-fracc(15,11),4,1))"
      ],
      "metadata": {
        "colab": {
          "base_uri": "https://localhost:8080/",
          "height": 46
        },
        "id": "-_Uc9Uf9wYvC",
        "outputId": "9044758e-bfbc-4d96-b581-3d473cea36e5"
      },
      "execution_count": 20,
      "outputs": [
        {
          "output_type": "execute_result",
          "data": {
            "text/plain": [
              "Matrix([Vector([1, 0, 0, 0]), Vector([0, 1, 0, 9/11]), Vector([0, 0, 1, -5/11]), Vector([0, 0, 0, 1])])"
            ],
            "text/html": [
              "<p style=\"text-align:center;\">$\\left[ \\begin{array}{cccc}1&0&0&0\\\\0&1&0&0\\\\0&0&1&0\\\\0&\\frac{9}{11}&- \\frac{5}{11}&1\\\\ \\end{array} \\right]$</p>"
            ],
            "image/png": "$\\left[ \\begin{array}{cccc}1&0&0&0\\\\0&1&0&0\\\\0&0&1&0\\\\0&\\frac{9}{11}&- \\frac{5}{11}&1\\\\ \\end{array} \\right]$",
            "text/latex": "$\\left[ \\begin{array}{cccc}1&0&0&0\\\\0&1&0&0\\\\0&0&1&0\\\\0&\\frac{9}{11}&- \\frac{5}{11}&1\\\\ \\end{array} \\right]$"
          },
          "metadata": {},
          "execution_count": 20
        }
      ]
    },
    {
      "cell_type": "markdown",
      "source": [
        "$\\left[ \\begin{array}{cccc}1&0&0&0\\\\0&1&0&0\\\\0&0&1&0\\\\0&\\frac{9}{11}&- \\frac{5}{11}&1\\\\ \\end{array} \\right]$"
      ],
      "metadata": {
        "id": "BY5WfzhEwf-y"
      }
    },
    {
      "cell_type": "code",
      "source": [
        "Ma&T((-fracc(9,11),4,2))"
      ],
      "metadata": {
        "colab": {
          "base_uri": "https://localhost:8080/",
          "height": 46
        },
        "id": "4h8SuqVAwhZq",
        "outputId": "70a558c5-2a6a-48d3-bad6-a413ff6ebf2c"
      },
      "execution_count": 21,
      "outputs": [
        {
          "output_type": "execute_result",
          "data": {
            "text/plain": [
              "Matrix([Vector([1, 0, 0, 0]), Vector([0, 1, 0, 0]), Vector([0, 0, 1, -5/11]), Vector([0, 0, 0, 1])])"
            ],
            "text/html": [
              "<p style=\"text-align:center;\">$\\left[ \\begin{array}{cccc}1&0&0&0\\\\0&1&0&0\\\\0&0&1&0\\\\0&0&- \\frac{5}{11}&1\\\\ \\end{array} \\right]$</p>"
            ],
            "image/png": "$\\left[ \\begin{array}{cccc}1&0&0&0\\\\0&1&0&0\\\\0&0&1&0\\\\0&0&- \\frac{5}{11}&1\\\\ \\end{array} \\right]$",
            "text/latex": "$\\left[ \\begin{array}{cccc}1&0&0&0\\\\0&1&0&0\\\\0&0&1&0\\\\0&0&- \\frac{5}{11}&1\\\\ \\end{array} \\right]$"
          },
          "metadata": {},
          "execution_count": 21
        }
      ]
    },
    {
      "cell_type": "markdown",
      "source": [
        "$\\left[ \\begin{array}{cccc}1&0&0&0\\\\0&1&0&0\\\\0&0&1&0\\\\0&0&- \\frac{5}{11}&1\\\\ \\end{array} \\right]$"
      ],
      "metadata": {
        "id": "ycXcJ2ILwj0r"
      }
    },
    {
      "cell_type": "code",
      "source": [
        "Ma&T((fracc(5,11),4,3))"
      ],
      "metadata": {
        "colab": {
          "base_uri": "https://localhost:8080/",
          "height": 46
        },
        "id": "h8i65UXdwstL",
        "outputId": "fc4ea896-855f-4a09-cc51-931b0d64f495"
      },
      "execution_count": 22,
      "outputs": [
        {
          "output_type": "execute_result",
          "data": {
            "text/plain": [
              "Matrix([Vector([1, 0, 0, 0]), Vector([0, 1, 0, 0]), Vector([0, 0, 1, 0]), Vector([0, 0, 0, 1])])"
            ],
            "text/html": [
              "<p style=\"text-align:center;\">$\\left[ \\begin{array}{cccc}1&0&0&0\\\\0&1&0&0\\\\0&0&1&0\\\\0&0&0&1\\\\ \\end{array} \\right]$</p>"
            ],
            "image/png": "$\\left[ \\begin{array}{cccc}1&0&0&0\\\\0&1&0&0\\\\0&0&1&0\\\\0&0&0&1\\\\ \\end{array} \\right]$",
            "text/latex": "$\\left[ \\begin{array}{cccc}1&0&0&0\\\\0&1&0&0\\\\0&0&1&0\\\\0&0&0&1\\\\ \\end{array} \\right]$"
          },
          "metadata": {},
          "execution_count": 22
        }
      ]
    },
    {
      "cell_type": "markdown",
      "source": [
        "$\\left[ \\begin{array}{cccc}1&0&0&0\\\\0&1&0&0\\\\0&0&1&0\\\\0&0&0&1\\\\ \\end{array} \\right]$"
      ],
      "metadata": {
        "id": "tta9u-U0wxj7"
      }
    },
    {
      "cell_type": "markdown",
      "source": [
        "## 5\n",
        "Compara tus resultados del ejercicio 1 con el metodo Elim()"
      ],
      "metadata": {
        "id": "WquJDA7ptTnC"
      }
    },
    {
      "cell_type": "code",
      "source": [
        "buno=Vector((3,1,2,4)); bdos=Vector((-2,-1,1,-4)); cdos= Vector((2,-1,2,1)); ddos= Vector((1,-3,4,2))\n",
        "b= Matrix([buno,bdos,cdos,ddos])\n",
        "b"
      ],
      "metadata": {
        "colab": {
          "base_uri": "https://localhost:8080/",
          "height": 46
        },
        "id": "e89hfP7AtYCC",
        "outputId": "65460710-42c4-4553-c94c-3b14479118da"
      },
      "execution_count": 35,
      "outputs": [
        {
          "output_type": "execute_result",
          "data": {
            "text/plain": [
              "Matrix([Vector([3, 1, 2, 4]), Vector([-2, -1, 1, -4]), Vector([2, -1, 2, 1]), Vector([1, -3, 4, 2])])"
            ],
            "text/html": [
              "<p style=\"text-align:center;\">$\\left[ \\begin{array}{cccc}3&-2&2&1\\\\1&-1&-1&-3\\\\2&1&2&4\\\\4&-4&1&2\\\\ \\end{array} \\right]$</p>"
            ],
            "image/png": "$\\left[ \\begin{array}{cccc}3&-2&2&1\\\\1&-1&-1&-3\\\\2&1&2&4\\\\4&-4&1&2\\\\ \\end{array} \\right]$",
            "text/latex": "$\\left[ \\begin{array}{cccc}3&-2&2&1\\\\1&-1&-1&-3\\\\2&1&2&4\\\\4&-4&1&2\\\\ \\end{array} \\right]$"
          },
          "metadata": {},
          "execution_count": 35
        }
      ]
    },
    {
      "cell_type": "markdown",
      "source": [
        "$\\left[ \\begin{array}{cccc}3&-2&2&1\\\\1&-1&-1&-3\\\\2&1&2&4\\\\4&-4&1&2\\\\ \\end{array} \\right]$"
      ],
      "metadata": {
        "id": "aH5kJL6-tjrz"
      }
    },
    {
      "cell_type": "code",
      "source": [
        "Elim(b,1)"
      ],
      "metadata": {
        "colab": {
          "base_uri": "https://localhost:8080/",
          "height": 173
        },
        "id": "wB7HFV0btiU7",
        "outputId": "ec5c9da0-e564-4232-8cf3-3e368fd3dc92"
      },
      "execution_count": 25,
      "outputs": [
        {
          "output_type": "display_data",
          "data": {
            "text/plain": [
              "<IPython.core.display.Math object>"
            ],
            "text/latex": "$\\displaystyle \\left[ \\begin{array}{cccc}3&-2&2&1\\\\1&-1&-1&-3\\\\2&1&2&4\\\\4&-4&1&2\\\\ \\end{array} \\right]\\xrightarrow{\\underset{\\begin{subarray}{c} \\left[\\left(3\\right)\\mathbf{2}\\right]\\\\\\left[\\left(2\\right)\\mathbf{1}+\\mathbf{2} \\right]\\\\\\left[\\left(3\\right)\\mathbf{3}\\right]\\\\\\left[\\left(-2\\right)\\mathbf{1}+\\mathbf{3} \\right]\\\\\\left[\\left(3\\right)\\mathbf{4}\\right]\\\\\\left[\\left(-1\\right)\\mathbf{1}+\\mathbf{4} \\right]\\end{subarray}}{\\pmb{\\tau}}}\\left[ \\begin{array}{cccc}3&0&0&0\\\\1&-1&-5&-10\\\\2&7&2&10\\\\4&-4&-5&2\\\\ \\end{array} \\right]\\xrightarrow{\\underset{\\begin{subarray}{c} \\left[\\left(-5\\right)\\mathbf{2}+\\mathbf{3} \\right]\\\\\\left[\\left(-10\\right)\\mathbf{2}+\\mathbf{4} \\right]\\end{subarray}}{\\pmb{\\tau}}}\\left[ \\begin{array}{cccc}3&0&0&0\\\\1&-1&0&0\\\\2&7&-33&-60\\\\4&-4&15&42\\\\ \\end{array} \\right]\\xrightarrow{\\underset{\\begin{subarray}{c} \\left[\\left(11\\right)\\mathbf{4}\\right]\\\\\\left[\\left(-20\\right)\\mathbf{3}+\\mathbf{4} \\right]\\end{subarray}}{\\pmb{\\tau}}}\\left[ \\begin{array}{cccc}3&0&0&0\\\\1&-1&0&0\\\\2&7&-33&0\\\\4&-4&15&162\\\\ \\end{array} \\right]$"
          },
          "metadata": {}
        },
        {
          "output_type": "execute_result",
          "data": {
            "text/plain": [
              "Matrix([Vector([3, 1, 2, 4]), Vector([0, -1, 7, -4]), Vector([0, 0, -33, 15]), Vector([0, 0, 0, 162])])"
            ],
            "text/html": [
              "<p style=\"text-align:center;\">$\\left[ \\begin{array}{cccc}3&0&0&0\\\\1&-1&0&0\\\\2&7&-33&0\\\\4&-4&15&162\\\\ \\end{array} \\right]$</p>"
            ],
            "image/png": "$\\left[ \\begin{array}{cccc}3&0&0&0\\\\1&-1&0&0\\\\2&7&-33&0\\\\4&-4&15&162\\\\ \\end{array} \\right]$",
            "text/latex": "$\\left[ \\begin{array}{cccc}3&0&0&0\\\\1&-1&0&0\\\\2&7&-33&0\\\\4&-4&15&162\\\\ \\end{array} \\right]$"
          },
          "metadata": {},
          "execution_count": 25
        }
      ]
    },
    {
      "cell_type": "markdown",
      "source": [
        "Ma&T((3,2,2))\n",
        "Ma&T((2,1,2))\n",
        "Ma&T((3,3,3))\n",
        "Ma&T((-2,1,3))\n",
        "Ma&T((3,4,4))\n",
        "Ma&T((-1,1,4))"
      ],
      "metadata": {
        "id": "HiOPHcpIt6CC"
      }
    },
    {
      "cell_type": "markdown",
      "source": [
        "Ma&T((-5,2,3))\n",
        "Ma&T((-10,2,4))"
      ],
      "metadata": {
        "id": "SPchzVTRu2LL"
      }
    },
    {
      "cell_type": "markdown",
      "source": [
        "Ma&T((11,4))\n",
        "Ma&T((-20,3,4))"
      ],
      "metadata": {
        "id": "Gt9RXZnfvHU6"
      }
    },
    {
      "cell_type": "markdown",
      "source": [
        "##6\n",
        "Compara tus resultados del ejercicio 4 con el metodo ElimGJ()"
      ],
      "metadata": {
        "id": "RFPkgSwww5tj"
      }
    },
    {
      "cell_type": "code",
      "source": [
        "cuno=Vector((3,1,2,4)); cdos=Vector((-2,-1,1,-4)); ctres= Vector((2,-1,2,1)); ccuatro= Vector((1,-3,4,2))\n",
        "c= Matrix([cuno,cdos,ctres,ccuatro])\n",
        "c"
      ],
      "metadata": {
        "colab": {
          "base_uri": "https://localhost:8080/",
          "height": 46
        },
        "id": "LjUjiuoaxEFy",
        "outputId": "70fd9c59-f98d-4353-8867-937b6d12496a"
      },
      "execution_count": 26,
      "outputs": [
        {
          "output_type": "execute_result",
          "data": {
            "text/plain": [
              "Matrix([Vector([3, 1, 2, 4]), Vector([-2, -1, 1, -4]), Vector([2, -1, 2, 1]), Vector([1, -3, 4, 2])])"
            ],
            "text/html": [
              "<p style=\"text-align:center;\">$\\left[ \\begin{array}{cccc}3&-2&2&1\\\\1&-1&-1&-3\\\\2&1&2&4\\\\4&-4&1&2\\\\ \\end{array} \\right]$</p>"
            ],
            "image/png": "$\\left[ \\begin{array}{cccc}3&-2&2&1\\\\1&-1&-1&-3\\\\2&1&2&4\\\\4&-4&1&2\\\\ \\end{array} \\right]$",
            "text/latex": "$\\left[ \\begin{array}{cccc}3&-2&2&1\\\\1&-1&-1&-3\\\\2&1&2&4\\\\4&-4&1&2\\\\ \\end{array} \\right]$"
          },
          "metadata": {},
          "execution_count": 26
        }
      ]
    },
    {
      "cell_type": "markdown",
      "source": [
        "$\\left[ \\begin{array}{cccc}3&-2&2&1\\\\1&-1&-1&-3\\\\2&1&2&4\\\\4&-4&1&2\\\\ \\end{array} \\right]$"
      ],
      "metadata": {
        "id": "3uvC82HTxKxM"
      }
    },
    {
      "cell_type": "code",
      "source": [
        "ElimGJ(c,1)"
      ],
      "metadata": {
        "colab": {
          "base_uri": "https://localhost:8080/",
          "height": 300
        },
        "id": "7dJDeJxAxJIr",
        "outputId": "c308e1a5-f55e-434c-b50b-e0df377802ff"
      },
      "execution_count": 27,
      "outputs": [
        {
          "output_type": "display_data",
          "data": {
            "text/plain": [
              "<IPython.core.display.Math object>"
            ],
            "text/latex": "$\\displaystyle \\left[ \\begin{array}{cccc}3&-2&2&1\\\\1&-1&-1&-3\\\\2&1&2&4\\\\4&-4&1&2\\\\ \\end{array} \\right]\\xrightarrow{\\underset{\\begin{subarray}{c} \\left[\\left(3\\right)\\mathbf{2}\\right]\\\\\\left[\\left(2\\right)\\mathbf{1}+\\mathbf{2} \\right]\\\\\\left[\\left(3\\right)\\mathbf{3}\\right]\\\\\\left[\\left(-2\\right)\\mathbf{1}+\\mathbf{3} \\right]\\\\\\left[\\left(3\\right)\\mathbf{4}\\right]\\\\\\left[\\left(-1\\right)\\mathbf{1}+\\mathbf{4} \\right]\\end{subarray}}{\\pmb{\\tau}}}\\left[ \\begin{array}{cccc}3&0&0&0\\\\1&-1&-5&-10\\\\2&7&2&10\\\\4&-4&-5&2\\\\ \\end{array} \\right]\\xrightarrow{\\underset{\\begin{subarray}{c} \\left[\\left(1\\right)\\mathbf{2}+\\mathbf{1} \\right]\\\\\\left[\\left(-5\\right)\\mathbf{2}+\\mathbf{3} \\right]\\\\\\left[\\left(-10\\right)\\mathbf{2}+\\mathbf{4} \\right]\\end{subarray}}{\\pmb{\\tau}}}\\left[ \\begin{array}{cccc}3&0&0&0\\\\0&-1&0&0\\\\9&7&-33&-60\\\\0&-4&15&42\\\\ \\end{array} \\right]\\xrightarrow{\\underset{\\begin{subarray}{c} \\left[\\left(11\\right)\\mathbf{1}\\right]\\\\\\left[\\left(3\\right)\\mathbf{3}+\\mathbf{1} \\right]\\\\\\left[\\left(33\\right)\\mathbf{2}\\right]\\\\\\left[\\left(7\\right)\\mathbf{3}+\\mathbf{2} \\right]\\\\\\left[\\left(11\\right)\\mathbf{4}\\right]\\\\\\left[\\left(-20\\right)\\mathbf{3}+\\mathbf{4} \\right]\\end{subarray}}{\\pmb{\\tau}}}\\left[ \\begin{array}{cccc}33&0&0&0\\\\0&-33&0&0\\\\0&0&-33&0\\\\45&-27&15&162\\\\ \\end{array} \\right]\\xrightarrow{\\underset{\\begin{subarray}{c} \\left[\\left(18\\right)\\mathbf{1}\\right]\\\\\\left[\\left(-5\\right)\\mathbf{4}+\\mathbf{1} \\right]\\\\\\left[\\left(6\\right)\\mathbf{2}\\right]\\\\\\left[\\left(1\\right)\\mathbf{4}+\\mathbf{2} \\right]\\\\\\left[\\left(54\\right)\\mathbf{3}\\right]\\\\\\left[\\left(-5\\right)\\mathbf{4}+\\mathbf{3} \\right]\\end{subarray}}{\\pmb{\\tau}}}\\left[ \\begin{array}{cccc}594&0&0&0\\\\0&-198&0&0\\\\0&0&-1782&0\\\\0&0&0&162\\\\ \\end{array} \\right]\\xrightarrow{\\underset{\\begin{subarray}{c} \\left[\\left(\\frac{1}{594}\\right)\\mathbf{1}\\right]\\\\\\left[\\left(- \\frac{1}{198}\\right)\\mathbf{2}\\right]\\\\\\left[\\left(- \\frac{1}{1782}\\right)\\mathbf{3}\\right]\\\\\\left[\\left(\\frac{1}{162}\\right)\\mathbf{4}\\right]\\end{subarray}}{\\pmb{\\tau}}}\\left[ \\begin{array}{cccc}1&0&0&0\\\\0&1&0&0\\\\0&0&1&0\\\\0&0&0&1\\\\ \\end{array} \\right]$"
          },
          "metadata": {}
        },
        {
          "output_type": "execute_result",
          "data": {
            "text/plain": [
              "Matrix([Vector([1, 0, 0, 0]), Vector([0, 1, 0, 0]), Vector([0, 0, 1, 0]), Vector([0, 0, 0, 1])])"
            ],
            "text/html": [
              "<p style=\"text-align:center;\">$\\left[ \\begin{array}{cccc}1&0&0&0\\\\0&1&0&0\\\\0&0&1&0\\\\0&0&0&1\\\\ \\end{array} \\right]$</p>"
            ],
            "image/png": "$\\left[ \\begin{array}{cccc}1&0&0&0\\\\0&1&0&0\\\\0&0&1&0\\\\0&0&0&1\\\\ \\end{array} \\right]$",
            "text/latex": "$\\left[ \\begin{array}{cccc}1&0&0&0\\\\0&1&0&0\\\\0&0&1&0\\\\0&0&0&1\\\\ \\end{array} \\right]$"
          },
          "metadata": {},
          "execution_count": 27
        }
      ]
    },
    {
      "cell_type": "markdown",
      "source": [
        "$\\left[ \\begin{array}{cccc}1&0&0&0\\\\0&1&0&0\\\\0&0&1&0\\\\0&0&0&1\\\\ \\end{array} \\right]$"
      ],
      "metadata": {
        "id": "qHVa_K2bxOwb"
      }
    },
    {
      "cell_type": "markdown",
      "source": [
        "##7\n",
        "Encuentra la inversa de la matriz del ejercicio 1."
      ],
      "metadata": {
        "id": "AuM0Q8fCxRUb"
      }
    },
    {
      "cell_type": "code",
      "source": [
        "siete= Matrix([buno,bdos,cdos,ddos])\n",
        "siete"
      ],
      "metadata": {
        "colab": {
          "base_uri": "https://localhost:8080/",
          "height": 46
        },
        "id": "PGXGPrpXxU3L",
        "outputId": "c3fad9ee-400c-4b67-9076-ecf78a38a055"
      },
      "execution_count": 36,
      "outputs": [
        {
          "output_type": "execute_result",
          "data": {
            "text/plain": [
              "Matrix([Vector([3, 1, 2, 4]), Vector([-2, -1, 1, -4]), Vector([2, -1, 2, 1]), Vector([1, -3, 4, 2])])"
            ],
            "text/html": [
              "<p style=\"text-align:center;\">$\\left[ \\begin{array}{cccc}3&-2&2&1\\\\1&-1&-1&-3\\\\2&1&2&4\\\\4&-4&1&2\\\\ \\end{array} \\right]$</p>"
            ],
            "image/png": "$\\left[ \\begin{array}{cccc}3&-2&2&1\\\\1&-1&-1&-3\\\\2&1&2&4\\\\4&-4&1&2\\\\ \\end{array} \\right]$",
            "text/latex": "$\\left[ \\begin{array}{cccc}3&-2&2&1\\\\1&-1&-1&-3\\\\2&1&2&4\\\\4&-4&1&2\\\\ \\end{array} \\right]$"
          },
          "metadata": {},
          "execution_count": 36
        }
      ]
    },
    {
      "cell_type": "markdown",
      "source": [
        "$\\left[ \\begin{array}{cccc}3&-2&2&1\\\\1&-1&-1&-3\\\\2&1&2&4\\\\4&-4&1&2\\\\ \\end{array} \\right]$"
      ],
      "metadata": {
        "id": "MoS55HKtxcKr"
      }
    },
    {
      "cell_type": "code",
      "source": [
        "sieteuno = siete.inversa()\n",
        "sieteuno"
      ],
      "metadata": {
        "colab": {
          "base_uri": "https://localhost:8080/",
          "height": 64
        },
        "id": "pssTREuvz4dC",
        "outputId": "808392e9-c09d-4dc6-c7d0-85f68c8eb8c1"
      },
      "execution_count": 38,
      "outputs": [
        {
          "output_type": "execute_result",
          "data": {
            "text/plain": [
              "Matrix([Vector([-1/6, -1/9, 7/9, -5/18]), Vector([1/2, 1/3, -1/3, -1/6]), Vector([7/18, 10/27, -7/27, 5/54]), Vector([1/18, -5/27, -10/27, 11/54])])"
            ],
            "text/html": [
              "<p style=\"text-align:center;\">$\\left[ \\begin{array}{cccc}- \\frac{1}{6}&\\frac{1}{2}&\\frac{7}{18}&\\frac{1}{18}\\\\- \\frac{1}{9}&\\frac{1}{3}&\\frac{10}{27}&- \\frac{5}{27}\\\\\\frac{7}{9}&- \\frac{1}{3}&- \\frac{7}{27}&- \\frac{10}{27}\\\\- \\frac{5}{18}&- \\frac{1}{6}&\\frac{5}{54}&\\frac{11}{54}\\\\ \\end{array} \\right]$</p>"
            ],
            "image/png": "$\\left[ \\begin{array}{cccc}- \\frac{1}{6}&\\frac{1}{2}&\\frac{7}{18}&\\frac{1}{18}\\\\- \\frac{1}{9}&\\frac{1}{3}&\\frac{10}{27}&- \\frac{5}{27}\\\\\\frac{7}{9}&- \\frac{1}{3}&- \\frac{7}{27}&- \\frac{10}{27}\\\\- \\frac{5}{18}&- \\frac{1}{6}&\\frac{5}{54}&\\frac{11}{54}\\\\ \\end{array} \\right]$",
            "text/latex": "$\\left[ \\begin{array}{cccc}- \\frac{1}{6}&\\frac{1}{2}&\\frac{7}{18}&\\frac{1}{18}\\\\- \\frac{1}{9}&\\frac{1}{3}&\\frac{10}{27}&- \\frac{5}{27}\\\\\\frac{7}{9}&- \\frac{1}{3}&- \\frac{7}{27}&- \\frac{10}{27}\\\\- \\frac{5}{18}&- \\frac{1}{6}&\\frac{5}{54}&\\frac{11}{54}\\\\ \\end{array} \\right]$"
          },
          "metadata": {},
          "execution_count": 38
        }
      ]
    },
    {
      "cell_type": "markdown",
      "source": [
        "$\\left[ \\begin{array}{cccc}- \\frac{1}{6}&\\frac{1}{2}&\\frac{7}{18}&\\frac{1}{18}\\\\- \\frac{1}{9}&\\frac{1}{3}&\\frac{10}{27}&- \\frac{5}{27}\\\\\\frac{7}{9}&- \\frac{1}{3}&- \\frac{7}{27}&- \\frac{10}{27}\\\\- \\frac{5}{18}&- \\frac{1}{6}&\\frac{5}{54}&\\frac{11}{54}\\\\ \\end{array} \\right]$"
      ],
      "metadata": {
        "id": "cIyM_Cjoz_Cd"
      }
    },
    {
      "cell_type": "markdown",
      "source": [
        "##8\n",
        "Resuelva el siguiente sistema de ecuaciones:\n",
        "$$ \\begin{array}{ccc}5x&+7y&-z&=6\\\\2x&+10y&-2z&=4\\\\x&+y&+z&=0\\\\ \\end{array} $$"
      ],
      "metadata": {
        "id": "6HxMGGJV0L3T"
      }
    },
    {
      "cell_type": "code",
      "source": [
        "ej8 = Matrix([[5,7,-1],[2,10,-2],[1,1,1]])\n",
        "ej8"
      ],
      "metadata": {
        "id": "vQK4OH2Q0Qu7",
        "colab": {
          "base_uri": "https://localhost:8080/",
          "height": 46
        },
        "outputId": "766a9a2c-d974-4c04-d120-d83cdcefaafe"
      },
      "execution_count": 39,
      "outputs": [
        {
          "output_type": "execute_result",
          "data": {
            "text/plain": [
              "Matrix([Vector([5, 2, 1]), Vector([7, 10, 1]), Vector([-1, -2, 1])])"
            ],
            "text/html": [
              "<p style=\"text-align:center;\">$\\left[ \\begin{array}{ccc}5&7&-1\\\\2&10&-2\\\\1&1&1\\\\ \\end{array} \\right]$</p>"
            ],
            "image/png": "$\\left[ \\begin{array}{ccc}5&7&-1\\\\2&10&-2\\\\1&1&1\\\\ \\end{array} \\right]$",
            "text/latex": "$\\left[ \\begin{array}{ccc}5&7&-1\\\\2&10&-2\\\\1&1&1\\\\ \\end{array} \\right]$"
          },
          "metadata": {},
          "execution_count": 39
        }
      ]
    },
    {
      "cell_type": "markdown",
      "source": [
        "$\\left[ \\begin{array}{ccc}5&7&-1\\\\2&10&-2\\\\1&1&1\\\\ \\end{array} \\right]$"
      ],
      "metadata": {
        "id": "paqOSzaje5_x"
      }
    },
    {
      "cell_type": "code",
      "source": [
        "ej81 = Matrix([[5,7,-1,6],[2,10,-2,4],[1,1,1,0]])\n",
        "ej81"
      ],
      "metadata": {
        "colab": {
          "base_uri": "https://localhost:8080/",
          "height": 46
        },
        "id": "LENiGeLhfAzK",
        "outputId": "75e719a0-d17b-44a6-9154-6ef3c0c2729e"
      },
      "execution_count": 41,
      "outputs": [
        {
          "output_type": "execute_result",
          "data": {
            "text/plain": [
              "Matrix([Vector([5, 2, 1]), Vector([7, 10, 1]), Vector([-1, -2, 1]), Vector([6, 4, 0])])"
            ],
            "text/html": [
              "<p style=\"text-align:center;\">$\\left[ \\begin{array}{cccc}5&7&-1&6\\\\2&10&-2&4\\\\1&1&1&0\\\\ \\end{array} \\right]$</p>"
            ],
            "image/png": "$\\left[ \\begin{array}{cccc}5&7&-1&6\\\\2&10&-2&4\\\\1&1&1&0\\\\ \\end{array} \\right]$",
            "text/latex": "$\\left[ \\begin{array}{cccc}5&7&-1&6\\\\2&10&-2&4\\\\1&1&1&0\\\\ \\end{array} \\right]$"
          },
          "metadata": {},
          "execution_count": 41
        }
      ]
    },
    {
      "cell_type": "markdown",
      "source": [
        "$\\left[ \\begin{array}{cccc}5&7&-1&6\\\\2&10&-2&4\\\\1&1&1&0\\\\ \\end{array} \\right]$"
      ],
      "metadata": {
        "id": "pqKZq4FvfGfx"
      }
    },
    {
      "cell_type": "code",
      "source": [
        "T((fracc(-1,2),2))&ej81\n",
        "T((1,2,3))&ej81\n",
        "T((fracc(-1,5),2))&ej81\n",
        "T((4,2,3))&ej81\n",
        "T((fracc(1,5),1))&ej81"
      ],
      "metadata": {
        "colab": {
          "base_uri": "https://localhost:8080/",
          "height": 46
        },
        "id": "OEjuLRR0fMxV",
        "outputId": "689a4e1b-78ac-404a-c0ea-04b0e05d50d9"
      },
      "execution_count": 42,
      "outputs": [
        {
          "output_type": "execute_result",
          "data": {
            "text/plain": [
              "Matrix([Vector([1, 1/5, 4/5]), Vector([7/5, 1, 0]), Vector([-1/5, -1/5, 6/5]), Vector([6/5, 2/5, -2/5])])"
            ],
            "text/html": [
              "<p style=\"text-align:center;\">$\\left[ \\begin{array}{cccc}1&\\frac{7}{5}&- \\frac{1}{5}&\\frac{6}{5}\\\\\\frac{1}{5}&1&- \\frac{1}{5}&\\frac{2}{5}\\\\\\frac{4}{5}&0&\\frac{6}{5}&- \\frac{2}{5}\\\\ \\end{array} \\right]$</p>"
            ],
            "image/png": "$\\left[ \\begin{array}{cccc}1&\\frac{7}{5}&- \\frac{1}{5}&\\frac{6}{5}\\\\\\frac{1}{5}&1&- \\frac{1}{5}&\\frac{2}{5}\\\\\\frac{4}{5}&0&\\frac{6}{5}&- \\frac{2}{5}\\\\ \\end{array} \\right]$",
            "text/latex": "$\\left[ \\begin{array}{cccc}1&\\frac{7}{5}&- \\frac{1}{5}&\\frac{6}{5}\\\\\\frac{1}{5}&1&- \\frac{1}{5}&\\frac{2}{5}\\\\\\frac{4}{5}&0&\\frac{6}{5}&- \\frac{2}{5}\\\\ \\end{array} \\right]$"
          },
          "metadata": {},
          "execution_count": 42
        }
      ]
    },
    {
      "cell_type": "markdown",
      "source": [
        "$\\left[ \\begin{array}{cccc}1&\\frac{7}{5}&- \\frac{1}{5}&\\frac{6}{5}\\\\\\frac{1}{5}&1&- \\frac{1}{5}&\\frac{2}{5}\\\\\\frac{4}{5}&0&\\frac{6}{5}&- \\frac{2}{5}\\\\ \\end{array} \\right]$"
      ],
      "metadata": {
        "id": "3RVRmk3PfgA1"
      }
    },
    {
      "cell_type": "code",
      "source": [
        "T((fracc(5,6),3))&ej81\n",
        "T((fracc(1,5),3,2))&ej81\n",
        "T((fracc(-1,3),1,2))&ej81\n",
        "T((fracc(-2,3),1,3))&ej81"
      ],
      "metadata": {
        "colab": {
          "base_uri": "https://localhost:8080/",
          "height": 46
        },
        "id": "TfMLDvxvfw0V",
        "outputId": "d12d171a-a627-4b26-eb5b-487b1e0abca3"
      },
      "execution_count": 43,
      "outputs": [
        {
          "output_type": "execute_result",
          "data": {
            "text/plain": [
              "Matrix([Vector([1, 0, 0]), Vector([7/5, 8/15, -14/15]), Vector([-1/5, 1/15, 17/15]), Vector([6/5, -1/15, -17/15])])"
            ],
            "text/html": [
              "<p style=\"text-align:center;\">$\\left[ \\begin{array}{cccc}1&\\frac{7}{5}&- \\frac{1}{5}&\\frac{6}{5}\\\\0&\\frac{8}{15}&\\frac{1}{15}&- \\frac{1}{15}\\\\0&- \\frac{14}{15}&\\frac{17}{15}&- \\frac{17}{15}\\\\ \\end{array} \\right]$</p>"
            ],
            "image/png": "$\\left[ \\begin{array}{cccc}1&\\frac{7}{5}&- \\frac{1}{5}&\\frac{6}{5}\\\\0&\\frac{8}{15}&\\frac{1}{15}&- \\frac{1}{15}\\\\0&- \\frac{14}{15}&\\frac{17}{15}&- \\frac{17}{15}\\\\ \\end{array} \\right]$",
            "text/latex": "$\\left[ \\begin{array}{cccc}1&\\frac{7}{5}&- \\frac{1}{5}&\\frac{6}{5}\\\\0&\\frac{8}{15}&\\frac{1}{15}&- \\frac{1}{15}\\\\0&- \\frac{14}{15}&\\frac{17}{15}&- \\frac{17}{15}\\\\ \\end{array} \\right]$"
          },
          "metadata": {},
          "execution_count": 43
        }
      ]
    },
    {
      "cell_type": "markdown",
      "source": [
        "$\\left[ \\begin{array}{cccc}1&\\frac{7}{5}&- \\frac{1}{5}&\\frac{6}{5}\\\\0&\\frac{8}{15}&\\frac{1}{15}&- \\frac{1}{15}\\\\0&- \\frac{14}{15}&\\frac{17}{15}&- \\frac{17}{15}\\\\ \\end{array} \\right]$"
      ],
      "metadata": {
        "id": "g7T_8spIf45e"
      }
    },
    {
      "cell_type": "code",
      "source": [
        "T((fracc(15,8),2))&ej81\n",
        "T((fracc(-7,5),2,1))&ej81\n",
        "T((fracc(14,15),2,3))&ej81\n",
        "T((fracc(4,5),3))&ej81"
      ],
      "metadata": {
        "colab": {
          "base_uri": "https://localhost:8080/",
          "height": 46
        },
        "id": "ptLLNqXlgHS0",
        "outputId": "ee6a3cb3-8d47-4d02-b6e1-4a91e9485b35"
      },
      "execution_count": 44,
      "outputs": [
        {
          "output_type": "execute_result",
          "data": {
            "text/plain": [
              "Matrix([Vector([1, 0, 0]), Vector([0, 1, 0]), Vector([-3/8, 1/8, 1]), Vector([11/8, -1/8, -1])])"
            ],
            "text/html": [
              "<p style=\"text-align:center;\">$\\left[ \\begin{array}{cccc}1&0&- \\frac{3}{8}&\\frac{11}{8}\\\\0&1&\\frac{1}{8}&- \\frac{1}{8}\\\\0&0&1&-1\\\\ \\end{array} \\right]$</p>"
            ],
            "image/png": "$\\left[ \\begin{array}{cccc}1&0&- \\frac{3}{8}&\\frac{11}{8}\\\\0&1&\\frac{1}{8}&- \\frac{1}{8}\\\\0&0&1&-1\\\\ \\end{array} \\right]$",
            "text/latex": "$\\left[ \\begin{array}{cccc}1&0&- \\frac{3}{8}&\\frac{11}{8}\\\\0&1&\\frac{1}{8}&- \\frac{1}{8}\\\\0&0&1&-1\\\\ \\end{array} \\right]$"
          },
          "metadata": {},
          "execution_count": 44
        }
      ]
    },
    {
      "cell_type": "markdown",
      "source": [
        "$\\left[ \\begin{array}{cccc}1&0&- \\frac{3}{8}&\\frac{11}{8}\\\\0&1&\\frac{1}{8}&- \\frac{1}{8}\\\\0&0&1&-1\\\\ \\end{array} \\right]$"
      ],
      "metadata": {
        "id": "echkiMF4gQ2V"
      }
    },
    {
      "cell_type": "code",
      "source": [
        "T((fracc(-1,8),3,2))&ej81\n",
        "T((fracc(3,8),3,1))&ej81"
      ],
      "metadata": {
        "colab": {
          "base_uri": "https://localhost:8080/",
          "height": 46
        },
        "id": "N-eZrzWVgVwT",
        "outputId": "9bd2c027-177b-4e08-8d29-f77258190820"
      },
      "execution_count": 45,
      "outputs": [
        {
          "output_type": "execute_result",
          "data": {
            "text/plain": [
              "Matrix([Vector([1, 0, 0]), Vector([0, 1, 0]), Vector([0, 0, 1]), Vector([1, 0, -1])])"
            ],
            "text/html": [
              "<p style=\"text-align:center;\">$\\left[ \\begin{array}{cccc}1&0&0&1\\\\0&1&0&0\\\\0&0&1&-1\\\\ \\end{array} \\right]$</p>"
            ],
            "image/png": "$\\left[ \\begin{array}{cccc}1&0&0&1\\\\0&1&0&0\\\\0&0&1&-1\\\\ \\end{array} \\right]$",
            "text/latex": "$\\left[ \\begin{array}{cccc}1&0&0&1\\\\0&1&0&0\\\\0&0&1&-1\\\\ \\end{array} \\right]$"
          },
          "metadata": {},
          "execution_count": 45
        }
      ]
    },
    {
      "cell_type": "markdown",
      "source": [
        "$\\left[ \\begin{array}{cccc}1&0&0&1\\\\0&1&0&0\\\\0&0&1&-1\\\\ \\end{array} \\right]$"
      ],
      "metadata": {
        "id": "5v_ksgT8gaej"
      }
    },
    {
      "cell_type": "markdown",
      "source": [
        "el valor de X es=1, el valor de Y es=0, y el valor de Z es igual a -1"
      ],
      "metadata": {
        "id": "pifw-Y4bgfmx"
      }
    }
  ]
}