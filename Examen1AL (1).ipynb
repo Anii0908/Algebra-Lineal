{
  "nbformat": 4,
  "nbformat_minor": 0,
  "metadata": {
    "colab": {
      "provenance": []
    },
    "kernelspec": {
      "name": "python3",
      "display_name": "Python 3"
    },
    "language_info": {
      "name": "python"
    }
  },
  "cells": [
    {
      "cell_type": "markdown",
      "source": [
        "## Algebra Lineal\n",
        "\n",
        "### 1er examen parcial"
      ],
      "metadata": {
        "id": "m93nhBA98vRW"
      }
    },
    {
      "cell_type": "code",
      "source": [
        "##inicializamos las librerias\n",
        "!pip install --target=$nb_path nacal\n",
        "from nacal import *\n",
        "from IPython.display import display, Math, Latex\n",
        "import math"
      ],
      "metadata": {
        "colab": {
          "base_uri": "https://localhost:8080/"
        },
        "id": "eIRdNTsxBYDH",
        "outputId": "7146194f-bc18-4618-dceb-4f9ce5777176"
      },
      "execution_count": 31,
      "outputs": [
        {
          "output_type": "stream",
          "name": "stdout",
          "text": [
            "Requirement already satisfied: nacal in /usr/local/lib/python3.10/dist-packages (0.1.30)\n",
            "Requirement already satisfied: sympy>=1.1.0 in /usr/local/lib/python3.10/dist-packages (from nacal) (1.12)\n",
            "Requirement already satisfied: mpmath>=0.19 in /usr/local/lib/python3.10/dist-packages (from sympy>=1.1.0->nacal) (1.3.0)\n"
          ]
        }
      ]
    },
    {
      "cell_type": "markdown",
      "source": [
        "EN este notebook deberás realizar cada uno de los ejercicios utilizando Python dentro de los bloques de código, si alguna salida requiere la visualización mediante Latex escribe el bloque correspondiente."
      ],
      "metadata": {
        "id": "OWBcJp7z9U8G"
      }
    },
    {
      "cell_type": "markdown",
      "metadata": {
        "id": "kXLRi02u_bK6"
      },
      "source": [
        "1. Genere los vectores $a$ y $ {b}$:\n",
        "\n",
        "-   el vector ${a}$ está formado por la lista de números: 1, 4, 9, 2, -5, π\n",
        "-   el vector ${b}$ está formado por la lista de números: 1, 2, 1, 0, 0.01,  $\\sqrt 2$\n",
        "-   súmelos"
      ]
    },
    {
      "cell_type": "code",
      "execution_count": 36,
      "metadata": {
        "id": "7GzeUtyj8qwb",
        "colab": {
          "base_uri": "https://localhost:8080/",
          "height": 82
        },
        "outputId": "746d8f95-cc67-4f51-db94-614be1738412"
      },
      "outputs": [
        {
          "output_type": "display_data",
          "data": {
            "text/plain": [
              "<IPython.core.display.Latex object>"
            ],
            "text/latex": "\\left[ \\begin{array}{cccccc}1&4&9&2&-5&3.14159265358979\\\\ \\end{array} \\right]"
          },
          "metadata": {}
        },
        {
          "output_type": "display_data",
          "data": {
            "text/plain": [
              "<IPython.core.display.Latex object>"
            ],
            "text/latex": "\\left[ \\begin{array}{cccccc}1&2&1&0&0.01&1.4142135623731\\\\ \\end{array} \\right]"
          },
          "metadata": {}
        },
        {
          "output_type": "display_data",
          "data": {
            "text/plain": [
              "<IPython.core.display.Latex object>"
            ],
            "text/latex": "\\left[ \\begin{array}{cccccc}2&6&10&2&-4.99&4.55580621596289\\\\ \\end{array} \\right]"
          },
          "metadata": {}
        }
      ],
      "source": [
        "#vector a\n",
        "a8=( [1, 4, 9,2,-5,math.pi] )\n",
        "mat8=Matrix([a8])\n",
        "display(Latex(latex(mat8)))\n",
        "#vector b\n",
        "a9=( [1, 2, 1,0,0.01,math.sqrt(2)] )\n",
        "mat9=Matrix([a9])\n",
        "display(Latex(latex(mat9)))\n",
        "\n",
        "display(Latex(latex(mat8+mat9)))"
      ]
    },
    {
      "cell_type": "markdown",
      "metadata": {
        "id": "6FIT3apxOYdq"
      },
      "source": [
        "2. Proporcione ejemplos de matrices 3 por 3 no nulas de los siguientes\n",
        "tipos de matrices:\n",
        "\n",
        "-   Una matriz diagonal\n",
        "\n"
      ]
    },
    {
      "cell_type": "code",
      "source": [
        "\n",
        "a1=( [1, 0, 0] )\n",
        "b1=( [0, 8, 0] )\n",
        "c1=( [0, 0, 9] )\n",
        "mat1=Matrix( [a1, b1, c1] )\n",
        "display(Latex(latex(mat1)))"
      ],
      "metadata": {
        "colab": {
          "base_uri": "https://localhost:8080/",
          "height": 78
        },
        "id": "gBe3lIrYCLXq",
        "outputId": "4ae265ad-6fde-49ab-debf-d7dc4ab7abfb"
      },
      "execution_count": 7,
      "outputs": [
        {
          "output_type": "display_data",
          "data": {
            "text/plain": [
              "<IPython.core.display.Latex object>"
            ],
            "text/latex": "\\left[ \\begin{array}{ccc}1&0&0\\\\0&8&0\\\\0&0&9\\\\ \\end{array} \\right]"
          },
          "metadata": {}
        }
      ]
    },
    {
      "cell_type": "markdown",
      "metadata": {
        "id": "WMMsUBTtOYdq"
      },
      "source": [
        "-   Una matriz simétrica\n",
        "\n"
      ]
    },
    {
      "cell_type": "code",
      "execution_count": 12,
      "metadata": {
        "id": "a7YW_5VFOYdq",
        "colab": {
          "base_uri": "https://localhost:8080/",
          "height": 78
        },
        "outputId": "51445c44-dd54-42e5-883d-422be0867c36"
      },
      "outputs": [
        {
          "output_type": "display_data",
          "data": {
            "text/plain": [
              "<IPython.core.display.Latex object>"
            ],
            "text/latex": "\\left[ \\begin{array}{ccc}1&2&5\\\\2&9&4\\\\5&4&9\\\\ \\end{array} \\right]"
          },
          "metadata": {}
        }
      ],
      "source": [
        "\n",
        "\n",
        "a5=( [1, 2, 5] )\n",
        "b5=( [2, 9, 4] )\n",
        "c5=( [5, 4, 9] )\n",
        "mat5=Matrix( [a5, b5, c5] )\n",
        "display(Latex(latex(mat5)))"
      ]
    },
    {
      "cell_type": "markdown",
      "metadata": {
        "id": "roLWrzwXj1X6"
      },
      "source": [
        "3. Cree la matriz\n",
        "$${A}=\\begin{bmatrix}1&0&0&-1\\\\2&0&7&0\\\\-4&3&3&0\\\\0&3&4&1\\\\7&1&2&1\\end{bmatrix}$$\n",
        "\n"
      ]
    },
    {
      "cell_type": "code",
      "source": [
        "\n",
        "a2=( [1, 0, 0,-1] )\n",
        "b2=( [2, 0, 7,0] )\n",
        "c2=( [-4, 3, 3,0] )\n",
        "d2=( [0, 3, 4,1] )\n",
        "e2=( [7, 1, 2,1] )\n",
        "mat2=Matrix( [a2, b2, c2,d2,e2] )\n",
        "display(Latex(latex(mat2)))"
      ],
      "metadata": {
        "colab": {
          "base_uri": "https://localhost:8080/",
          "height": 119
        },
        "id": "MkYlm0-XCaix",
        "outputId": "ba257a1e-8633-4f39-e31e-9e522f9972b3"
      },
      "execution_count": 37,
      "outputs": [
        {
          "output_type": "display_data",
          "data": {
            "text/plain": [
              "<IPython.core.display.Latex object>"
            ],
            "text/latex": "\\left[ \\begin{array}{cccc}1&0&0&-1\\\\2&0&7&0\\\\-4&3&3&0\\\\0&3&4&1\\\\7&1&2&1\\\\ \\end{array} \\right]"
          },
          "metadata": {}
        }
      ]
    },
    {
      "cell_type": "markdown",
      "metadata": {
        "id": "96CPH5a_j1X9"
      },
      "source": [
        "Calcule el siguiente vector: 3 veces la primera columna de $A$\n",
        "mas la segunda columna de $A$ menos 2 veces la tercera columna\n",
        "menos 3 veces la última columna de $A$\n",
        "\n"
      ]
    },
    {
      "cell_type": "code",
      "execution_count": 22,
      "metadata": {
        "id": "DLRtU4HDOYdq",
        "colab": {
          "base_uri": "https://localhost:8080/",
          "height": 525
        },
        "outputId": "4263a646-ef79-424a-d9b6-3c3c4d7062a8"
      },
      "outputs": [
        {
          "output_type": "display_data",
          "data": {
            "text/plain": [
              "<IPython.core.display.Latex object>"
            ],
            "text/latex": "\\left[ \\begin{array}{c}1\\\\2\\\\-4\\\\0\\\\7\\\\ \\end{array} \\right]"
          },
          "metadata": {}
        },
        {
          "output_type": "display_data",
          "data": {
            "text/plain": [
              "<IPython.core.display.Latex object>"
            ],
            "text/latex": "\\left[ \\begin{array}{c}0\\\\0\\\\3\\\\3\\\\1\\\\ \\end{array} \\right]"
          },
          "metadata": {}
        },
        {
          "output_type": "display_data",
          "data": {
            "text/plain": [
              "<IPython.core.display.Latex object>"
            ],
            "text/latex": "\\left[ \\begin{array}{c}0\\\\7\\\\3\\\\4\\\\2\\\\ \\end{array} \\right]"
          },
          "metadata": {}
        },
        {
          "output_type": "display_data",
          "data": {
            "text/plain": [
              "<IPython.core.display.Latex object>"
            ],
            "text/latex": "\\left[ \\begin{array}{c}-1\\\\0\\\\0\\\\1\\\\1\\\\ \\end{array} \\right]"
          },
          "metadata": {}
        },
        {
          "output_type": "display_data",
          "data": {
            "text/plain": [
              "<IPython.core.display.Latex object>"
            ],
            "text/latex": "\\left[ \\begin{array}{c}0\\\\-8\\\\-12\\\\1\\\\22\\\\ \\end{array} \\right]"
          },
          "metadata": {}
        }
      ],
      "source": [
        "##primera columna\n",
        "a3=( [1] )\n",
        "b3=( [ 2] )\n",
        "c3=( [ -4] )\n",
        "d3=( [-0] )\n",
        "e3=( [7] )\n",
        "mat3=Matrix( [a3,b3,c3,d3,e3] )\n",
        "display(Latex(latex(mat3)))\n",
        "##segunda columna\n",
        "a4=( [0] )\n",
        "b4=( [ 0] )\n",
        "c4=( [ 3] )\n",
        "d4=( [3] )\n",
        "e4=( [1] )\n",
        "mat4=Matrix( [a4,b4,c4,d4,e4] )\n",
        "display(Latex(latex(mat4)))\n",
        "##tercera columna\n",
        "a6=( [0] )\n",
        "b6=( [ 7] )\n",
        "c6=( [ 3] )\n",
        "d6=( [4] )\n",
        "e6=( [2] )\n",
        "mat6=Matrix( [a6,b6,c6,d6,e6] )\n",
        "display(Latex(latex(mat6)))\n",
        "##cuarta columna\n",
        "a7=( [-1] )\n",
        "b7=( [ 0] )\n",
        "c7=( [ 0] )\n",
        "d7=( [1] )\n",
        "e7=( [1] )\n",
        "mat7=Matrix( [a7,b7,c7,d7,e7] )\n",
        "display(Latex(latex(mat7)))\n",
        "##el resultado es\n",
        "display(Latex(latex(((3*mat3)+(2*mat4))-((2*mat6)-(3*mat7)))))"
      ]
    },
    {
      "cell_type": "markdown",
      "metadata": {
        "ein.tags": "worksheet-0",
        "id": "kjhE4PPdWKYI"
      },
      "source": [
        "4. Matriz por vector (combinaciones lineales de las columnas de una matriz)\n",
        "\n",
        "Considere los vectores ${x}=(1, 1, -2)$, ${y}=(1, -2, 1)$\n",
        "\n",
        "y\n",
        "${z}=(-2, 1, 1)$ y verifique que\n",
        "$2{x}+2{y}+2{z}={0}$\n",
        "\n",
        "que resultado da : $4x+4y+4z$\n",
        "\n",
        "y que resultado da:  $-3x-3y-3z$"
      ]
    },
    {
      "cell_type": "markdown",
      "metadata": {
        "ein.tags": "worksheet-0",
        "id": "_38hNp-wcDuB"
      },
      "source": [
        "5. Escribe una matriz C del mismo orden que A y verifica que\n",
        "$$\n",
        "({A}{C})^T={C}^T{A}^T\n",
        "$$"
      ]
    },
    {
      "cell_type": "code",
      "source": [
        "\n",
        "a20=( [1, 0, 4,-1] )\n",
        "b20=( [20, 0, 78,20] )\n",
        "c20=( [-40, 30, 3,10] )\n",
        "d20=( [2, 30, 4,21] )\n",
        "e20=( [7, 10, 2,10] )\n",
        "mat20=Matrix( [a20, b20, c20,d20,e20] )\n",
        "display(Latex(latex(mat20)))"
      ],
      "metadata": {
        "colab": {
          "base_uri": "https://localhost:8080/",
          "height": 119
        },
        "id": "g83rIm25JjHo",
        "outputId": "32b53a6f-39cd-446f-c324-3ec059944880"
      },
      "execution_count": 27,
      "outputs": [
        {
          "output_type": "display_data",
          "data": {
            "text/plain": [
              "<IPython.core.display.Latex object>"
            ],
            "text/latex": "\\left[ \\begin{array}{cccc}1&0&4&-1\\\\20&0&78&20\\\\-40&30&3&10\\\\2&30&4&21\\\\7&10&2&10\\\\ \\end{array} \\right]"
          },
          "metadata": {}
        }
      ]
    },
    {
      "cell_type": "code",
      "source": [
        "display(Latex(latex(~(mat2*mat20))))\n",
        "display(Latex(latex((~mat2)*(~mat20))))"
      ],
      "metadata": {
        "id": "frH6ZOYnmErd",
        "colab": {
          "base_uri": "https://localhost:8080/",
          "height": 280
        },
        "outputId": "556f37cf-c3fe-40f6-83e0-3191e6cf44e9"
      },
      "execution_count": 30,
      "outputs": [
        {
          "output_type": "error",
          "ename": "ValueError",
          "evalue": "Sistema y Matrix incompatibles",
          "traceback": [
            "\u001b[0;31m---------------------------------------------------------------------------\u001b[0m",
            "\u001b[0;31mValueError\u001b[0m                                Traceback (most recent call last)",
            "\u001b[0;32m<ipython-input-30-408bb08dea5c>\u001b[0m in \u001b[0;36m<cell line: 1>\u001b[0;34m()\u001b[0m\n\u001b[0;32m----> 1\u001b[0;31m \u001b[0mdisplay\u001b[0m\u001b[0;34m(\u001b[0m\u001b[0mLatex\u001b[0m\u001b[0;34m(\u001b[0m\u001b[0mlatex\u001b[0m\u001b[0;34m(\u001b[0m\u001b[0;34m~\u001b[0m\u001b[0;34m(\u001b[0m\u001b[0mmat2\u001b[0m\u001b[0;34m*\u001b[0m\u001b[0mmat20\u001b[0m\u001b[0;34m)\u001b[0m\u001b[0;34m)\u001b[0m\u001b[0;34m)\u001b[0m\u001b[0;34m)\u001b[0m\u001b[0;34m\u001b[0m\u001b[0;34m\u001b[0m\u001b[0m\n\u001b[0m\u001b[1;32m      2\u001b[0m \u001b[0mdisplay\u001b[0m\u001b[0;34m(\u001b[0m\u001b[0mLatex\u001b[0m\u001b[0;34m(\u001b[0m\u001b[0mlatex\u001b[0m\u001b[0;34m(\u001b[0m\u001b[0;34m(\u001b[0m\u001b[0;34m~\u001b[0m\u001b[0mmat2\u001b[0m\u001b[0;34m)\u001b[0m\u001b[0;34m*\u001b[0m\u001b[0;34m(\u001b[0m\u001b[0;34m~\u001b[0m\u001b[0mmat20\u001b[0m\u001b[0;34m)\u001b[0m\u001b[0;34m)\u001b[0m\u001b[0;34m)\u001b[0m\u001b[0;34m)\u001b[0m\u001b[0;34m\u001b[0m\u001b[0;34m\u001b[0m\u001b[0m\n",
            "\u001b[0;32m/usr/local/lib/python3.10/dist-packages/nacal/nacal.py\u001b[0m in \u001b[0;36m__mul__\u001b[0;34m(self, x)\u001b[0m\n\u001b[1;32m    296\u001b[0m \u001b[0;34m\u001b[0m\u001b[0m\n\u001b[1;32m    297\u001b[0m         \u001b[0;32melif\u001b[0m \u001b[0misinstance\u001b[0m\u001b[0;34m(\u001b[0m\u001b[0mx\u001b[0m\u001b[0;34m,\u001b[0m \u001b[0mMatrix\u001b[0m\u001b[0;34m)\u001b[0m\u001b[0;34m:\u001b[0m\u001b[0;34m\u001b[0m\u001b[0;34m\u001b[0m\u001b[0m\n\u001b[0;32m--> 298\u001b[0;31m             \u001b[0;32mif\u001b[0m \u001b[0mlen\u001b[0m\u001b[0;34m(\u001b[0m\u001b[0mself\u001b[0m\u001b[0;34m)\u001b[0m \u001b[0;34m!=\u001b[0m \u001b[0mx\u001b[0m\u001b[0;34m.\u001b[0m\u001b[0mm\u001b[0m\u001b[0;34m:\u001b[0m      \u001b[0;32mraise\u001b[0m \u001b[0mValueError\u001b[0m\u001b[0;34m(\u001b[0m\u001b[0;34m'Sistema y Matrix incompatibles'\u001b[0m\u001b[0;34m)\u001b[0m\u001b[0;34m\u001b[0m\u001b[0;34m\u001b[0m\u001b[0m\n\u001b[0m\u001b[1;32m    299\u001b[0m             \u001b[0;32mif\u001b[0m \u001b[0misinstance\u001b[0m\u001b[0;34m(\u001b[0m\u001b[0mself\u001b[0m\u001b[0;34m,\u001b[0m \u001b[0mVector\u001b[0m\u001b[0;34m)\u001b[0m\u001b[0;34m:\u001b[0m\u001b[0;34m\u001b[0m\u001b[0;34m\u001b[0m\u001b[0m\n\u001b[1;32m    300\u001b[0m                 \u001b[0;32mreturn\u001b[0m \u001b[0mVector\u001b[0m\u001b[0;34m(\u001b[0m \u001b[0;34m[\u001b[0m \u001b[0mself\u001b[0m\u001b[0;34m*\u001b[0m\u001b[0;34m(\u001b[0m\u001b[0mx\u001b[0m\u001b[0;34m|\u001b[0m\u001b[0mj\u001b[0m\u001b[0;34m)\u001b[0m \u001b[0;32mfor\u001b[0m \u001b[0mj\u001b[0m \u001b[0;32min\u001b[0m \u001b[0mrange\u001b[0m\u001b[0;34m(\u001b[0m\u001b[0;36m1\u001b[0m\u001b[0;34m,\u001b[0m\u001b[0;34m(\u001b[0m\u001b[0mx\u001b[0m\u001b[0;34m.\u001b[0m\u001b[0mn\u001b[0m\u001b[0;34m)\u001b[0m\u001b[0;34m+\u001b[0m\u001b[0;36m1\u001b[0m\u001b[0;34m)\u001b[0m\u001b[0;34m]\u001b[0m\u001b[0;34m,\u001b[0m \u001b[0mrpr\u001b[0m\u001b[0;34m=\u001b[0m\u001b[0;34m'fila'\u001b[0m \u001b[0;34m)\u001b[0m\u001b[0;34m\u001b[0m\u001b[0;34m\u001b[0m\u001b[0m\n",
            "\u001b[0;31mValueError\u001b[0m: Sistema y Matrix incompatibles"
          ]
        }
      ]
    },
    {
      "cell_type": "markdown",
      "metadata": {
        "ein.tags": "worksheet-0",
        "id": "Hin_mRv6cDtt"
      },
      "source": [
        "6. Verifique que\n",
        "$\n",
        "{A}{I}={A}\n",
        "$\n",
        "y que\n",
        "$\n",
        "{I}{A}={A}\n",
        "$"
      ]
    },
    {
      "cell_type": "code",
      "execution_count": null,
      "metadata": {
        "autoscroll": false,
        "ein.hycell": false,
        "ein.tags": "worksheet-0",
        "id": "8dfGpxIdcDtt"
      },
      "outputs": [],
      "source": []
    },
    {
      "cell_type": "markdown",
      "source": [
        "7. Producto punto\n",
        "Considere los vectores ${x}=(1, 1, -2)$, ${y}=(1, -2, 1)$\n",
        "calcula el producto punto"
      ],
      "metadata": {
        "id": "aHZ16S1peAeY"
      }
    },
    {
      "cell_type": "code",
      "source": [],
      "metadata": {
        "id": "QPfhac1geMQK"
      },
      "execution_count": null,
      "outputs": []
    }
  ]
}